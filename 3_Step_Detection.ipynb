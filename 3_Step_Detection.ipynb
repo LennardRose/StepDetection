{
 "cells": [
  {
   "cell_type": "markdown",
   "source": [
    "# 3. Stepdetection\n",
    "Lennard Rose\n",
    "Start with Data_Exploration, contiue with Classify_Activities."
   ],
   "metadata": {
    "collapsed": false,
    "pycharm": {
     "name": "#%% md\n"
    }
   }
  },
  {
   "cell_type": "code",
   "execution_count": null,
   "outputs": [],
   "source": [
    "from google.colab import drive\n",
    "drive.mount('/content/drive')\n",
    "import sys\n",
    "sys.path.append('/content/drive/MyDrive/Colab_Notebooks/Master/SS23_Assignment_3')"
   ],
   "metadata": {
    "collapsed": false,
    "pycharm": {
     "name": "#%%\n"
    }
   }
  },
  {
   "cell_type": "code",
   "execution_count": null,
   "outputs": [],
   "source": [
    "from psutil import virtual_memory\n",
    "ram_gb = virtual_memory().total / 1e9\n",
    "print('Your runtime has {:.1f} gigabytes of available RAM\\n'.format(ram_gb))\n",
    "\n",
    "if ram_gb < 20:\n",
    "  print('Not using a high-RAM runtime')\n",
    "else:\n",
    "  print('You are using a high-RAM runtime!')"
   ],
   "metadata": {
    "collapsed": false,
    "pycharm": {
     "name": "#%%\n"
    }
   }
  },
  {
   "cell_type": "code",
   "execution_count": null,
   "outputs": [],
   "source": [
    "import utils\n",
    "DEVICE = utils.get_device(cuda=True)"
   ],
   "metadata": {
    "collapsed": false,
    "pycharm": {
     "name": "#%%\n"
    }
   }
  },
  {
   "cell_type": "code",
   "execution_count": null,
   "outputs": [],
   "source": [
    "%load_ext autoreload\n",
    "%autoreload 2"
   ],
   "metadata": {
    "collapsed": false,
    "pycharm": {
     "name": "#%%\n"
    }
   }
  },
  {
   "cell_type": "code",
   "execution_count": null,
   "outputs": [],
   "source": [
    "import os\n",
    "print(os.listdir('./drive/MyDrive/Colab_Notebooks/Master/SS23_Assignment_3/data'))"
   ],
   "metadata": {
    "collapsed": false,
    "pycharm": {
     "name": "#%%\n"
    }
   }
  },
  {
   "cell_type": "code",
   "execution_count": null,
   "outputs": [],
   "source": [
    "BASE_PATH = \"./drive/MyDrive/Colab_Notebooks/Master/SS23_Assignment_3/\""
   ],
   "metadata": {
    "collapsed": false,
    "pycharm": {
     "name": "#%%\n"
    }
   }
  },
  {
   "cell_type": "code",
   "execution_count": null,
   "outputs": [],
   "source": [
    "BASE_PATH = \"./\""
   ],
   "metadata": {
    "collapsed": false,
    "pycharm": {
     "name": "#%%\n"
    }
   }
  },
  {
   "cell_type": "code",
   "execution_count": null,
   "outputs": [],
   "source": [
    "OUT_PATH = BASE_PATH + \"output/steps/\"\n",
    "DATA_PATH = BASE_PATH + \"data/**/*.csv\"\n",
    "LABEL_PATH = BASE_PATH + \"data/**/*.csv.stepMixed\"\n",
    "TEST_PATH = BASE_PATH + \"data/testdata.csv\"\n",
    "RESNET_PATH = BASE_PATH + \"models/rn_steps.pth\"\n",
    "CNN_PATH = BASE_PATH + \"models/cnn_steps.pth\"\n",
    "LSTM_PATH = BASE_PATH + \"models/lstm_steps.pth\""
   ],
   "metadata": {
    "collapsed": false,
    "pycharm": {
     "name": "#%%\n"
    }
   }
  },
  {
   "cell_type": "markdown",
   "source": [
    "## ResNet\n",
    "After the below networks did not yield any results I implemented this solution using a ResNet. I was curious if transforming the data to a frequency spectrum would do the trick. In my previous job in the navy, we always fourier transformed the acoustic signals we got from ships to classify them and to detect e.g. special engine sounds. Overall the idea worked out, because it was the first time I got an almost reasonable looking output and not just all ones or all zeros. The predictions are still mostly bad but it was a welcome surprise. In fact, I think before I can really utilize transformations like this, I will have to research them A LOT more. But it was a good first experience.\n",
    "For this task I went with the classification of 0 and 1 for the steps and not for continous values."
   ],
   "metadata": {
    "collapsed": false,
    "pycharm": {
     "name": "#%% md\n"
    }
   }
  },
  {
   "cell_type": "code",
   "execution_count": null,
   "outputs": [],
   "source": [
    "from sklearn.preprocessing import StandardScaler\n",
    "from Data import get_SlidingWindow_Dataloader, get_balanced_dataset, load_dataframes\n",
    "import utils\n",
    "\n",
    "scaler = StandardScaler()\n",
    "df = get_balanced_dataset(data_path=DATA_PATH, label_path= LABEL_PATH, method=\"expand\", labels=\"start\") # dont forget to set ordered_df\n",
    "#df = load_dataframes(labels=\"start\")\n",
    "\n",
    "train_dl, val_dl, fitted_scaler = get_SlidingWindow_Dataloader(df=df,\n",
    "                                                scaler=scaler,\n",
    "                                                ordered_df=True,\n",
    "                                                train_test_split=0.9,\n",
    "                                                batch_size=128,\n",
    "                                                shape_for=\"resnet\",\n",
    "                                                target_index=\"first\")"
   ],
   "metadata": {
    "collapsed": false,
    "pycharm": {
     "name": "#%%\n"
    }
   }
  },
  {
   "cell_type": "markdown",
   "source": [
    "Initialize Model"
   ],
   "metadata": {
    "collapsed": false,
    "pycharm": {
     "name": "#%% md\n"
    }
   }
  },
  {
   "cell_type": "code",
   "execution_count": null,
   "outputs": [],
   "source": [
    "from ResNet import ResNet\n",
    "\n",
    "rn = ResNet(in_dim=600, out1_dim=256, out2_dim=128, final_out_dim=1, activity=False) # out = 1 because of binary"
   ],
   "metadata": {
    "collapsed": false,
    "pycharm": {
     "name": "#%%\n"
    }
   }
  },
  {
   "cell_type": "code",
   "execution_count": null,
   "outputs": [],
   "source": [
    "import torch\n",
    "rn.load_state_dict(torch.load(RESNET_PATH))"
   ],
   "metadata": {
    "collapsed": false,
    "pycharm": {
     "name": "#%%\n"
    }
   }
  },
  {
   "cell_type": "markdown",
   "source": [
    "Train Model"
   ],
   "metadata": {
    "collapsed": false,
    "pycharm": {
     "name": "#%% md\n"
    }
   }
  },
  {
   "cell_type": "markdown",
   "source": [
    "For training the models I implemented an evaluation function that worked like the accuracy score but with a threshold of 10 around the steps. For dealing with the heavily inbalanced classes (~98% for 0 and ~2% for 1) I implemented an adjusted version of the mean squared error function that penalizes misclassifications of 1s."
   ],
   "metadata": {
    "collapsed": false,
    "pycharm": {
     "name": "#%% md\n"
    }
   }
  },
  {
   "cell_type": "code",
   "execution_count": null,
   "outputs": [],
   "source": [
    "from training import train_model\n",
    "from utils import hit_accuracy, save_model\n",
    "from Custom_MSE import MSE_with_penalty\n",
    "from torch import nn\n",
    "\n",
    "\n",
    "criterion = nn.BCELoss()\n",
    "# criterion = nn.MSELoss()\n",
    "#criterion = MSE_with_penalty(penalty=50)\n",
    "\n",
    "rn = rn.to(DEVICE)\n",
    "\n",
    "trained_model, t_losses, t_accuracies, v_losses, v_accuracies = train_model(rn,\n",
    "                                                                            learning_rate=0.01,\n",
    "                                                                            criterion=criterion,\n",
    "                                                                            epochs=50,\n",
    "                                                                            training_dataloader=train_dl,\n",
    "                                                                            test_dataloader=val_dl,\n",
    "                                                                            device=DEVICE,\n",
    "                                                                            path_to_save=RESNET_PATH,\n",
    "                                                                            evaluationfunc=hit_accuracy,\n",
    "                                                                            verbose=True)\n",
    "\n"
   ],
   "metadata": {
    "collapsed": false,
    "pycharm": {
     "name": "#%%\n"
    }
   }
  },
  {
   "cell_type": "markdown",
   "source": [
    "The output copied from colab:\n",
    "Note that the BCE loss usually yielded results like this. for the penalized MSE, the results started from around 98%, jumped down to 50% and eventually reaching around 70%"
   ],
   "metadata": {
    "collapsed": false,
    "pycharm": {
     "name": "#%% md\n"
    }
   }
  },
  {
   "cell_type": "markdown",
   "source": [
    "model saved to ./drive/MyDrive/Colab_Notebooks/Master/SS23_Assignment_3/models/rn_steps.pth\n",
    "saved model\n",
    "Epoch 1 / 50\n",
    "Training Loss: 0.129 - Accuracy: 95.52%\n",
    "Validation Loss: 0.104 - Accuracy: 97.86%\n",
    "model saved to ./drive/MyDrive/Colab_Notebooks/Master/SS23_Assignment_3/models/rn_steps.pth\n",
    "saved model\n",
    "Epoch 2 / 50\n",
    "Training Loss: 0.083 - Accuracy: 98.26%\n",
    "Validation Loss: 0.103 - Accuracy: 97.86%\n",
    "model saved to ./drive/MyDrive/Colab_Notebooks/Master/SS23_Assignment_3/models/rn_steps.pth\n",
    "saved model\n",
    "Epoch 3 / 50\n",
    "Training Loss: 0.082 - Accuracy: 98.26%\n",
    "Validation Loss: 0.102 - Accuracy: 97.86%\n",
    "  ...\n",
    "Epoch 49 / 50\n",
    "Training Loss: 0.064 - Accuracy: 98.27%\n",
    "Validation Loss: 0.124 - Accuracy: 97.86%\n",
    "Epoch 50 / 50\n",
    "Training Loss: 0.063 - Accuracy: 98.29%\n",
    "Validation Loss: 0.131 - Accuracy: 97.86%"
   ],
   "metadata": {
    "collapsed": false,
    "pycharm": {
     "name": "#%% md\n"
    }
   }
  },
  {
   "cell_type": "code",
   "execution_count": null,
   "outputs": [],
   "source": [
    "from utils import save_model\n",
    "save_model(trained_model, RESNET_PATH)"
   ],
   "metadata": {
    "collapsed": false,
    "pycharm": {
     "name": "#%%\n"
    }
   }
  },
  {
   "cell_type": "markdown",
   "source": [
    "Predict Testset"
   ],
   "metadata": {
    "collapsed": false,
    "pycharm": {
     "name": "#%% md\n"
    }
   }
  },
  {
   "cell_type": "code",
   "execution_count": null,
   "outputs": [],
   "source": [
    "import pandas as pd\n",
    "from Data import get_SlidingWindow_Dataloader\n",
    "import numpy as np\n",
    "import torch\n",
    "from training import predict_steps\n",
    "\n",
    "WINDOW_SIZE = 100\n",
    "STEP_SIZE = 1\n",
    "\n",
    "test_data = pd.read_csv(TEST_PATH)\n",
    "\n",
    "test_data, _, _ = get_SlidingWindow_Dataloader(test_data,\n",
    "                                               scaler=fitted_scaler,\n",
    "                                                ordered_df=False,\n",
    "                                                train=False,\n",
    "                                                 batch_size=1,\n",
    "                                                 window_size=WINDOW_SIZE,\n",
    "                                                 step_size=STEP_SIZE,\n",
    "                                                 train_test_split=None,\n",
    "                                                  shape_for=\"resnet\",\n",
    "                                                target_index=\"first\")"
   ],
   "metadata": {
    "collapsed": false,
    "pycharm": {
     "name": "#%%\n"
    }
   }
  },
  {
   "cell_type": "code",
   "execution_count": null,
   "outputs": [],
   "source": [
    "result = predict_steps(trained_model, test_data, DEVICE)"
   ],
   "metadata": {
    "collapsed": false,
    "pycharm": {
     "name": "#%%\n"
    }
   }
  },
  {
   "cell_type": "code",
   "execution_count": null,
   "outputs": [],
   "source": [
    "np.unique(result, return_counts=True)"
   ],
   "metadata": {
    "collapsed": false,
    "pycharm": {
     "name": "#%%\n"
    }
   }
  },
  {
   "cell_type": "markdown",
   "source": [
    "As before, all cell outputs got lost when downloading this Notebook ( I tried to paste some interesting ones into the markdown cells here). Nevertheless, I have saved a few outputs to illustrate my general problem. The below outputs are after training this model for 500 epochs. I always ended up with one class being the mayority. I could overcome this to some extend with adjusting the penalty, but because the data and the models where so complex, I couldnt try every combination (even though I tried a lot).\n",
    "Something I havent figured out is the amount of 0 and ones in those predictions. With the high accuracy you can see in the training above (~98%) I expected the model to ouput mostly zeros (because they are easy to hit) and only a couple of ones. I double checked the training and evaluation function to be sure they use the same method for rounding the values. But nevertheless I get mostly 1s when I predict. A possible answer to this may be that the outputs eventually converge pretty close to 0.5 and differ only by some hundreds. With the slight shift in data distribution in the test set, the outputs are shifted a bit \"up\" and get rounded to 1."
   ],
   "metadata": {
    "collapsed": false,
    "pycharm": {
     "name": "#%% md\n"
    }
   }
  },
  {
   "cell_type": "markdown",
   "source": [
    "penalty 50 = (array([0, 1]), array([     1, 101990]))\n",
    "BCE = (array([0, 1]), array([   391, 101600]))"
   ],
   "metadata": {
    "collapsed": false,
    "pycharm": {
     "name": "#%% md\n"
    }
   }
  },
  {
   "cell_type": "code",
   "execution_count": null,
   "outputs": [],
   "source": [
    "from utils import output_results\n",
    "\n",
    "output_results(result, OUT_PATH + \"rn_out.csv\")"
   ],
   "metadata": {
    "collapsed": false,
    "pycharm": {
     "name": "#%%\n"
    }
   }
  },
  {
   "cell_type": "markdown",
   "source": [
    "## CNN"
   ],
   "metadata": {
    "collapsed": false,
    "pycharm": {
     "name": "#%% md\n"
    }
   }
  },
  {
   "cell_type": "markdown",
   "source": [
    "Contrary to predicting the activities, the CNN was the hardest to train here. Every epoch took forever (4 minutes on GPU) and no real improvements could be seen. I tried some combinations but focussed more on the LSTM below."
   ],
   "metadata": {
    "collapsed": false,
    "pycharm": {
     "name": "#%% md\n"
    }
   }
  },
  {
   "cell_type": "code",
   "execution_count": null,
   "outputs": [],
   "source": [
    "from Data import get_SlidingWindow_Dataloader, get_balanced_dataset, load_dataframes\n",
    "import utils\n",
    "from sklearn.preprocessing import StandardScaler\n",
    "\n",
    "scaler = StandardScaler()\n",
    "\n",
    "#df = get_balanced_dataset(data_path=DATA_PATH, label_path= LABEL_PATH, method=\"expand\", labels=\"start\") # cut expand SMOTE interpolate\n",
    "df = load_dataframes(data_path=DATA_PATH, label_path= LABEL_PATH, labels=\"start\")\n",
    "\n",
    "train_dl, val_dl, fitted_scaler = get_SlidingWindow_Dataloader(df=df,\n",
    "                                                                scaler = scaler,\n",
    "                                                                ordered_df=True,\n",
    "                                                                window_size=100, # default size is only thing implemented\n",
    "                                                                step_size=1,\n",
    "                                                                train_test_split=0.9,\n",
    "                                                                batch_size=32,\n",
    "                                                                shape_for=\"cnn\",\n",
    "                                                                target_index=\"first\") # works only with first"
   ],
   "metadata": {
    "collapsed": false,
    "pycharm": {
     "name": "#%%\n"
    }
   }
  },
  {
   "cell_type": "markdown",
   "source": [
    "Initialize Model"
   ],
   "metadata": {
    "collapsed": false,
    "pycharm": {
     "name": "#%% md\n"
    }
   }
  },
  {
   "cell_type": "code",
   "execution_count": null,
   "outputs": [],
   "source": [
    "from CNN import CNN\n",
    "\n",
    "cnn = CNN(activity=False)"
   ],
   "metadata": {
    "collapsed": false,
    "pycharm": {
     "name": "#%%\n"
    }
   }
  },
  {
   "cell_type": "code",
   "execution_count": null,
   "outputs": [],
   "source": [
    "import torch\n",
    "\n",
    "cnn.load_state_dict(torch.load(CNN_PATH))"
   ],
   "metadata": {
    "collapsed": false,
    "pycharm": {
     "name": "#%%\n"
    }
   }
  },
  {
   "cell_type": "markdown",
   "source": [
    "Train Model"
   ],
   "metadata": {
    "collapsed": false,
    "pycharm": {
     "name": "#%% md\n"
    }
   }
  },
  {
   "cell_type": "code",
   "execution_count": null,
   "outputs": [],
   "source": [
    "from training import train_model\n",
    "from utils import hit_accuracy\n",
    "from Custom_MSE import MSE_with_penalty\n",
    "\n",
    "# criterion = nn.BCELoss()\n",
    "# criterion = nn.MSELoss()\n",
    "criterion = MSE_with_penalty(penalty=5)\n",
    "\n",
    "cnn = cnn.to(DEVICE)\n",
    "trained_model, t_losses, t_accuracies, v_losses, v_accuracies = train_model(cnn,\n",
    "                                                                            learning_rate=0.01,\n",
    "                                                                            criterion=criterion,\n",
    "                                                                            epochs=20,\n",
    "                                                                            training_dataloader=train_dl,\n",
    "                                                                            test_dataloader=val_dl,\n",
    "                                                                            device=DEVICE,\n",
    "                                                                            patience_epochs=10,\n",
    "                                                                            path_to_save=CNN_PATH,\n",
    "                                                                            evaluationfunc=hit_accuracy,\n",
    "                                                                            verbose=True)"
   ],
   "metadata": {
    "collapsed": false,
    "pycharm": {
     "name": "#%%\n"
    }
   }
  },
  {
   "cell_type": "code",
   "execution_count": null,
   "outputs": [],
   "source": [
    "from utils import save_model\n",
    "\n",
    "save_model(trained_model, CNN_PATH)"
   ],
   "metadata": {
    "collapsed": false,
    "pycharm": {
     "name": "#%%\n"
    }
   }
  },
  {
   "cell_type": "markdown",
   "source": [
    "\n",
    "Predict Testset"
   ],
   "metadata": {
    "collapsed": false,
    "pycharm": {
     "name": "#%% md\n"
    }
   }
  },
  {
   "cell_type": "code",
   "execution_count": null,
   "outputs": [],
   "source": [
    "import pandas as pd\n",
    "from Data import get_SlidingWindow_Dataloader\n",
    "import numpy as np\n",
    "import torch\n",
    "from training import predict_steps\n",
    "\n",
    "WINDOW_SIZE = 100\n",
    "STEP_SIZE = 1\n",
    "\n",
    "test_data = pd.read_csv(TEST_PATH)\n",
    "\n",
    "test_data, _, _ = get_SlidingWindow_Dataloader(test_data,\n",
    "                                               scaler=fitted_scaler,\n",
    "                                                ordered_df=False,\n",
    "                                                train=False,\n",
    "                                                 batch_size=1,\n",
    "                                                 window_size=WINDOW_SIZE,\n",
    "                                                 step_size=STEP_SIZE,\n",
    "                                                 train_test_split=None,\n",
    "                                                  shape_for=\"cnn\",\n",
    "                                                target_index=\"first\")\n",
    "trained_model = cnn\n",
    "result = predict_steps(trained_model, test_data, DEVICE)\n",
    "\n",
    "np.unique(result, return_counts=True)"
   ],
   "metadata": {
    "collapsed": false,
    "pycharm": {
     "name": "#%%\n"
    }
   }
  },
  {
   "cell_type": "code",
   "execution_count": null,
   "outputs": [],
   "source": [
    "from utils import output_results\n",
    "\n",
    "output_results(result, OUT_PATH + \"cnn_out.csv\")"
   ],
   "metadata": {
    "collapsed": false,
    "pycharm": {
     "name": "#%%\n"
    }
   }
  },
  {
   "cell_type": "markdown",
   "source": [
    "Again all 1s.\n",
    "(array([1]), array([101991]))"
   ],
   "metadata": {
    "collapsed": false,
    "pycharm": {
     "name": "#%% md\n"
    }
   }
  },
  {
   "cell_type": "markdown",
   "source": [
    "## LSTM"
   ],
   "metadata": {
    "collapsed": false,
    "pycharm": {
     "name": "#%% md\n"
    }
   }
  },
  {
   "cell_type": "markdown",
   "source": [],
   "metadata": {
    "collapsed": false,
    "pycharm": {
     "name": "#%% md\n"
    }
   }
  },
  {
   "cell_type": "code",
   "execution_count": null,
   "outputs": [],
   "source": [
    "from Data import get_SlidingWindow_Dataloader, get_balanced_dataset, load_dataframes\n",
    "import utils\n",
    "from sklearn.preprocessing import StandardScaler\n",
    "\n",
    "scaler = StandardScaler()\n",
    "#df = get_balanced_dataset(method=\"cut\")\n",
    "df = load_dataframes(data_path=DATA_PATH, label_path= LABEL_PATH, labels=\"start\")\n",
    "\n",
    "train_dl, val_dl, fitted_scaler = get_SlidingWindow_Dataloader(df=df,\n",
    "                                                scaler = scaler,\n",
    "                                                ordered_df=False,\n",
    "                                                train_test_split=0.9,\n",
    "                                                batch_size=16,\n",
    "                                                shape_for=\"lstm\",\n",
    "                                                target_index=\"n_to_n\")"
   ],
   "metadata": {
    "collapsed": false,
    "pycharm": {
     "name": "#%%\n"
    }
   }
  },
  {
   "cell_type": "markdown",
   "source": [
    "initialize Model"
   ],
   "metadata": {
    "collapsed": false,
    "pycharm": {
     "name": "#%% md\n"
    }
   }
  },
  {
   "cell_type": "code",
   "execution_count": null,
   "outputs": [],
   "source": [
    "from LSTM import LSTM\n",
    "\n",
    "lstm = LSTM(input_size=6, hidden_size=128, num_layers=5, n_classes=1, activity=False) # n_classes = 1 because of binary"
   ],
   "metadata": {
    "collapsed": false,
    "pycharm": {
     "name": "#%%\n"
    }
   }
  },
  {
   "cell_type": "code",
   "execution_count": null,
   "outputs": [],
   "source": [
    "import torch\n",
    "lstm.load_state_dict(torch.load(LSTM_PATH))"
   ],
   "metadata": {
    "collapsed": false,
    "pycharm": {
     "name": "#%%\n"
    }
   }
  },
  {
   "cell_type": "markdown",
   "source": [
    "Train Model"
   ],
   "metadata": {
    "collapsed": false,
    "pycharm": {
     "name": "#%% md\n"
    }
   }
  },
  {
   "cell_type": "code",
   "execution_count": null,
   "outputs": [],
   "source": [
    "# to continue training\n",
    "trained_model = lstm"
   ],
   "metadata": {
    "collapsed": false,
    "pycharm": {
     "name": "#%%\n"
    }
   }
  },
  {
   "cell_type": "markdown",
   "source": [
    "As you can see, the LSTM improved in terms of training loss over the time. The validation loss on the other hand did not decrease in the same amount. I simply had not enough time to train this so long to see real improvements or a \"turningpoint\"."
   ],
   "metadata": {
    "collapsed": false,
    "pycharm": {
     "name": "#%% md\n"
    }
   }
  },
  {
   "cell_type": "code",
   "execution_count": null,
   "outputs": [],
   "source": [
    "from training import train_model\n",
    "from utils import hit_accuracy\n",
    "from Custom_MSE import MSE_with_penalty\n",
    "\n",
    "\n",
    "# criterion = nn.BCELoss()\n",
    "# criterion = nn.MSELoss()\n",
    "criterion = MSE_with_penalty(penalty=10)\n",
    "\n",
    "\n",
    "lstm = lstm.to(DEVICE)\n",
    "trained_model, t_losses, t_accuracies, v_losses, v_accuracies = train_model(lstm,\n",
    "                                                                            criterion=criterion,\n",
    "                                                                            learning_rate=0.001,\n",
    "                                                                            epochs=10,\n",
    "                                                                            patience_epochs=10,\n",
    "                                                                            training_dataloader=train_dl,\n",
    "                                                                            test_dataloader=val_dl,\n",
    "                                                                            device=DEVICE,\n",
    "                                                                            evaluationfunc=hit_accuracy,\n",
    "                                                                            path_to_save=LSTM_PATH,\n",
    "                                                                            verbose=True)"
   ],
   "metadata": {
    "collapsed": false,
    "pycharm": {
     "name": "#%%\n"
    }
   }
  },
  {
   "cell_type": "markdown",
   "source": [
    "model saved to ./drive/MyDrive/Colab_Notebooks/Master/SS23_Assignment_3/models/lstm_steps.pth\n",
    "saved model\n",
    "Epoch 1 / 10\n",
    "Training Loss: 0.073 - Accuracy: 95.51%\n",
    "Validation Loss: 0.123 - Accuracy: 97.12%\n",
    "Epoch 2 / 10\n",
    "Training Loss: 0.07 - Accuracy: 95.66%\n",
    "Validation Loss: 0.126 - Accuracy: 96.44%\n",
    "Epoch 3 / 10\n",
    "Training Loss: 0.067 - Accuracy: 95.61%\n",
    "Validation Loss: 0.125 - Accuracy: 96.7%\n",
    "model saved to ./drive/MyDrive/Colab_Notebooks/Master/SS23_Assignment_3/models/lstm_steps.pth\n",
    "saved model\n",
    "Epoch 4 / 10\n",
    "Training Loss: 0.064 - Accuracy: 95.75%\n",
    "Validation Loss: 0.121 - Accuracy: 96.75%\n",
    "Epoch 5 / 10\n",
    "Training Loss: 0.06 - Accuracy: 95.85%\n",
    "Validation Loss: 0.121 - Accuracy: 96.91%\n",
    "model saved to ./drive/MyDrive/Colab_Notebooks/Master/SS23_Assignment_3/models/lstm_steps.pth\n",
    "saved model\n",
    "Epoch 6 / 10\n",
    "Training Loss: 0.057 - Accuracy: 96.01%\n",
    "Validation Loss: 0.117 - Accuracy: 96.94%\n",
    "Epoch 7 / 10\n",
    "Training Loss: 0.054 - Accuracy: 96.16%\n",
    "Validation Loss: 0.118 - Accuracy: 97.08%\n",
    "Epoch 8 / 10\n",
    "Training Loss: 0.051 - Accuracy: 96.35%\n",
    "Validation Loss: 0.119 - Accuracy: 96.84%\n",
    "Epoch 9 / 10\n",
    "Training Loss: 0.048 - Accuracy: 96.51%\n",
    "Validation Loss: 0.121 - Accuracy: 96.95%\n",
    "Epoch 10 / 10\n",
    "Training Loss: 0.046 - Accuracy: 96.71%\n",
    "Validation Loss: 0.12 - Accuracy: 97.02%"
   ],
   "metadata": {
    "collapsed": false,
    "pycharm": {
     "name": "#%% md\n"
    }
   }
  },
  {
   "cell_type": "code",
   "execution_count": null,
   "outputs": [],
   "source": [
    "from utils import save_model\n",
    "save_model(trained_model, LSTM_PATH)"
   ],
   "metadata": {
    "collapsed": false,
    "pycharm": {
     "name": "#%%\n"
    }
   }
  },
  {
   "cell_type": "markdown",
   "source": [
    "Predict Testset"
   ],
   "metadata": {
    "collapsed": false,
    "pycharm": {
     "name": "#%% md\n"
    }
   }
  },
  {
   "cell_type": "code",
   "execution_count": null,
   "outputs": [],
   "source": [
    "import pandas as pd\n",
    "from Data import get_SlidingWindow_Dataloader\n",
    "import numpy as np\n",
    "\n",
    "WINDOW_SIZE = 100\n",
    "STEP_SIZE = 50\n",
    "\n",
    "test_data = pd.read_csv(TEST_PATH)\n",
    "\n",
    "test_data, _, _ = get_SlidingWindow_Dataloader(test_data,\n",
    "                                            scaler=fitted_scaler,\n",
    "                                            ordered_df=False,\n",
    "                                            train=False,\n",
    "                                            batch_size=1,\n",
    "                                            window_size=WINDOW_SIZE,\n",
    "                                            step_size=50,\n",
    "                                            train_test_split=None,\n",
    "                                            shape_for=\"lstm\",\n",
    "                                            target_index=\"n_to_n\")\n"
   ],
   "metadata": {
    "collapsed": false,
    "pycharm": {
     "name": "#%%\n"
    }
   }
  },
  {
   "cell_type": "code",
   "execution_count": null,
   "outputs": [],
   "source": [
    "len(test_data.dataset)"
   ],
   "metadata": {
    "collapsed": false,
    "pycharm": {
     "name": "#%%\n"
    }
   }
  },
  {
   "cell_type": "code",
   "execution_count": null,
   "outputs": [],
   "source": [
    "from training import predict_steps_average\n",
    "\n",
    "result = predict_steps_average(trained_model, test_data, DEVICE)\n",
    "np.unique(result, return_counts=True)"
   ],
   "metadata": {
    "collapsed": false,
    "pycharm": {
     "name": "#%%\n"
    }
   }
  },
  {
   "cell_type": "code",
   "execution_count": 85,
   "outputs": [
    {
     "output_type": "execute_result",
     "data": {
      "text/plain": [
       "<All keys matched successfully>"
      ]
     },
     "metadata": {},
     "execution_count": 85
    }
   ],
   "source": [
    "import torch\n",
    "lstm.load_state_dict(torch.load(LSTM_PATH))"
   ],
   "metadata": {
    "pycharm": {
     "name": "#%%\n"
    },
    "colab": {
     "base_uri": "https://localhost:8080/"
    },
    "id": "7V7Cd0IG9Iik",
    "executionInfo": {
     "status": "ok",
     "timestamp": 1688756764618,
     "user_tz": -120,
     "elapsed": 579,
     "user": {
      "displayName": "Lennard Rose",
      "userId": "06501036474986291686"
     }
    },
    "outputId": "8a6c1a5b-5c48-4e5c-b286-b7b5c66e54a9"
   }
  },
  {
   "cell_type": "markdown",
   "source": [
    "## Conclusion\n",
    "Overall, I learned a lot working on this assignment. I was forced to look far beyond the standard repertoire for possible solutions. In the process, I found some new methods that I didn't know yet. Even though it may not seem like much, it was beneficial to see how easy it is to implement an custom loss function to manipulate your results. I also learned and relearned a lot of theory to really make sure that the insufficient output was not due to a misimplementation on my part. The classification of activities, although not explicitly part of the task, was a rewarding experience, because I struggled at first but then it worked out very well. Nevertheless, I have mixed feelings, not only because the task was very (very) frustrating at times. But because I think that by making it difficult to achieve any results, the chance to find new ways to improve one's results was lost. I would have liked to try out my original plan with the activities as well as some ensemble methods. But in the end there was no time because I was too busy changing parameters, pressing a button and waiting 30 minutes to see if it would produce any useful results. Nevertheless, I am very satisfied overall with my performance and the portfolio. In contrast to my portfolio from the bachelor's, there was less (or no) cross-validation of hyperparameters this time. But instead, there are many different approaches that I would not have tried otherwise. In retrospect, I probably would have been better off joining one of the other teams. The overhead that came with working on the tasks alone was sometimes higher than expected. If I had had more time, I would have tried to replace the individual steps with blocks (20) to put the unbalanced class ratio into perspective. I would also have tried the continuous steps approach."
   ],
   "metadata": {
    "collapsed": false,
    "pycharm": {
     "name": "#%% md\n"
    }
   }
  },
  {
   "cell_type": "markdown",
   "source": [
    "Train Model"
   ],
   "metadata": {
    "collapsed": false,
    "pycharm": {
     "name": "#%% md\n"
    },
    "id": "HQfU6_ux9Iik"
   }
  },
  {
   "cell_type": "code",
   "source": [
    "# to continue training\n",
    "trained_model = lstm"
   ],
   "metadata": {
    "id": "gHuXw2TKem76",
    "executionInfo": {
     "status": "ok",
     "timestamp": 1688756756450,
     "user_tz": -120,
     "elapsed": 537,
     "user": {
      "displayName": "Lennard Rose",
      "userId": "06501036474986291686"
     }
    }
   },
   "execution_count": 82,
   "outputs": []
  },
  {
   "cell_type": "code",
   "execution_count": 86,
   "outputs": [
    {
     "output_type": "display_data",
     "data": {
      "text/plain": [
       "Epochs:   0%|          | 0/10 [00:00<?, ?it/s]"
      ],
      "application/vnd.jupyter.widget-view+json": {
       "version_major": 2,
       "version_minor": 0,
       "model_id": "14f9def2d0e44b738ba7a56a3b3b6a29"
      }
     },
     "metadata": {}
    },
    {
     "output_type": "stream",
     "name": "stdout",
     "text": [
      "model saved to ./drive/MyDrive/Colab_Notebooks/Master/SS23_Assignment_3/models/lstm_steps.pth\n",
      "saved model\n",
      "Epoch 1 / 10\n",
      "Training Loss: 0.073 - Accuracy: 95.51%\n",
      "Validation Loss: 0.123 - Accuracy: 97.12%\n",
      "Epoch 2 / 10\n",
      "Training Loss: 0.07 - Accuracy: 95.66%\n",
      "Validation Loss: 0.126 - Accuracy: 96.44%\n",
      "Epoch 3 / 10\n",
      "Training Loss: 0.067 - Accuracy: 95.61%\n",
      "Validation Loss: 0.125 - Accuracy: 96.7%\n",
      "model saved to ./drive/MyDrive/Colab_Notebooks/Master/SS23_Assignment_3/models/lstm_steps.pth\n",
      "saved model\n",
      "Epoch 4 / 10\n",
      "Training Loss: 0.064 - Accuracy: 95.75%\n",
      "Validation Loss: 0.121 - Accuracy: 96.75%\n",
      "Epoch 5 / 10\n",
      "Training Loss: 0.06 - Accuracy: 95.85%\n",
      "Validation Loss: 0.121 - Accuracy: 96.91%\n",
      "model saved to ./drive/MyDrive/Colab_Notebooks/Master/SS23_Assignment_3/models/lstm_steps.pth\n",
      "saved model\n",
      "Epoch 6 / 10\n",
      "Training Loss: 0.057 - Accuracy: 96.01%\n",
      "Validation Loss: 0.117 - Accuracy: 96.94%\n",
      "Epoch 7 / 10\n",
      "Training Loss: 0.054 - Accuracy: 96.16%\n",
      "Validation Loss: 0.118 - Accuracy: 97.08%\n",
      "Epoch 8 / 10\n",
      "Training Loss: 0.051 - Accuracy: 96.35%\n",
      "Validation Loss: 0.119 - Accuracy: 96.84%\n",
      "Epoch 9 / 10\n",
      "Training Loss: 0.048 - Accuracy: 96.51%\n",
      "Validation Loss: 0.121 - Accuracy: 96.95%\n",
      "Epoch 10 / 10\n",
      "Training Loss: 0.046 - Accuracy: 96.71%\n",
      "Validation Loss: 0.12 - Accuracy: 97.02%\n"
     ]
    }
   ],
   "source": [
    "from training import train_model\n",
    "from utils import hit_accuracy\n",
    "from Custom_MSE import MSE_with_penalty\n",
    "\n",
    "\n",
    "# criterion = nn.BCELoss()\n",
    "# criterion = nn.MSELoss()\n",
    "criterion = MSE_with_penalty(penalty=10)\n",
    "\n",
    "\n",
    "lstm = lstm.to(DEVICE)\n",
    "trained_model, t_losses, t_accuracies, v_losses, v_accuracies = train_model(lstm,\n",
    "                                                                            criterion=criterion,\n",
    "                                                                            learning_rate=0.001,\n",
    "                                                                            epochs=10,\n",
    "                                                                            patience_epochs=10,\n",
    "                                                                            training_dataloader=train_dl,\n",
    "                                                                            test_dataloader=val_dl,\n",
    "                                                                            device=DEVICE,\n",
    "                                                                            evaluationfunc=hit_accuracy,\n",
    "                                                                            path_to_save=LSTM_PATH,\n",
    "                                                                            verbose=True)"
   ],
   "metadata": {
    "pycharm": {
     "name": "#%%\n"
    },
    "colab": {
     "base_uri": "https://localhost:8080/",
     "height": 674,
     "referenced_widgets": [
      "14f9def2d0e44b738ba7a56a3b3b6a29",
      "49ff5acb2a5b45cf801762cbe94dad65",
      "5dba1cf0caa0453b8cab755ab610c4d3",
      "9517b81a5ed441b28362d327cc46957a",
      "e446696f489f40b496043615395addfc",
      "e2b729ce748f4a70a9b2b1365c84202e",
      "1a31be4cc0ec4bb4b05312a8de15a664",
      "fbffeda0841c4021a536994f5c08486f",
      "28a2a46a2f4a41cebd6fbb3b9248bfb5",
      "d7f198c832ac492fafcad0f649b7dddc",
      "9a16df7b205b4f22840a8a7432aa4166"
     ]
    },
    "id": "b3mU1Uh-9Iik",
    "executionInfo": {
     "status": "ok",
     "timestamp": 1688758889180,
     "user_tz": -120,
     "elapsed": 2120723,
     "user": {
      "displayName": "Lennard Rose",
      "userId": "06501036474986291686"
     }
    },
    "outputId": "c1ebe4ca-d7ac-4cf9-af7e-0748f16f1b38"
   }
  },
  {
   "cell_type": "code",
   "execution_count": 87,
   "outputs": [
    {
     "output_type": "stream",
     "name": "stdout",
     "text": [
      "model saved to ./drive/MyDrive/Colab_Notebooks/Master/SS23_Assignment_3/models/lstm_steps.pth\n"
     ]
    }
   ],
   "source": [
    "from utils import save_model\n",
    "save_model(trained_model, LSTM_PATH)"
   ],
   "metadata": {
    "pycharm": {
     "name": "#%%\n"
    },
    "colab": {
     "base_uri": "https://localhost:8080/"
    },
    "id": "hCUbF58Y9Iik",
    "executionInfo": {
     "status": "ok",
     "timestamp": 1688758899966,
     "user_tz": -120,
     "elapsed": 427,
     "user": {
      "displayName": "Lennard Rose",
      "userId": "06501036474986291686"
     }
    },
    "outputId": "f7fef85a-8cdd-407c-ab7f-010f55d0f2d6"
   }
  },
  {
   "cell_type": "markdown",
   "source": [
    "Predict Testset"
   ],
   "metadata": {
    "collapsed": false,
    "pycharm": {
     "name": "#%% md\n"
    },
    "id": "hZgMw0ZY9Iik"
   }
  },
  {
   "cell_type": "code",
   "execution_count": 116,
   "outputs": [],
   "source": [
    "import pandas as pd\n",
    "from Data import get_SlidingWindow_Dataloader\n",
    "import numpy as np\n",
    "\n",
    "WINDOW_SIZE = 100\n",
    "STEP_SIZE = 50\n",
    "\n",
    "test_data = pd.read_csv(TEST_PATH)\n",
    "\n",
    "test_data, _, _ = get_SlidingWindow_Dataloader(test_data,\n",
    "                                            scaler=fitted_scaler,\n",
    "                                            ordered_df=False,\n",
    "                                            train=False,\n",
    "                                            batch_size=1,\n",
    "                                            window_size=WINDOW_SIZE,\n",
    "                                            step_size=50,\n",
    "                                            train_test_split=None,\n",
    "                                            shape_for=\"lstm\",\n",
    "                                            target_index=\"n_to_n\")\n"
   ],
   "metadata": {
    "pycharm": {
     "name": "#%%\n"
    },
    "id": "rS-Z_cmS9Iik",
    "executionInfo": {
     "status": "ok",
     "timestamp": 1688760831448,
     "user_tz": -120,
     "elapsed": 3,
     "user": {
      "displayName": "Lennard Rose",
      "userId": "06501036474986291686"
     }
    }
   }
  },
  {
   "cell_type": "code",
   "source": [
    "len(test_data.dataset)"
   ],
   "metadata": {
    "colab": {
     "base_uri": "https://localhost:8080/"
    },
    "id": "YjGCHA3R7I8D",
    "executionInfo": {
     "status": "ok",
     "timestamp": 1688760868224,
     "user_tz": -120,
     "elapsed": 428,
     "user": {
      "displayName": "Lennard Rose",
      "userId": "06501036474986291686"
     }
    },
    "outputId": "f2e0abe7-ba0c-4f0b-ea0c-3b89c85c5985"
   },
   "execution_count": 117,
   "outputs": [
    {
     "output_type": "execute_result",
     "data": {
      "text/plain": [
       "2040"
      ]
     },
     "metadata": {},
     "execution_count": 117
    }
   ]
  },
  {
   "cell_type": "code",
   "source": [
    "from training import predict_steps_average\n",
    "\n",
    "result = predict_steps_average(trained_model, test_data, DEVICE)\n",
    "np.unique(result, return_counts=True)"
   ],
   "metadata": {
    "colab": {
     "base_uri": "https://localhost:8080/"
    },
    "id": "b8dkSMuBgoC7",
    "executionInfo": {
     "status": "ok",
     "timestamp": 1688760878696,
     "user_tz": -120,
     "elapsed": 7589,
     "user": {
      "displayName": "Lennard Rose",
      "userId": "06501036474986291686"
     }
    },
    "outputId": "6942aaa1-c552-4dc0-856e-a6453b24fccc"
   },
   "execution_count": 118,
   "outputs": [
    {
     "output_type": "stream",
     "name": "stderr",
     "text": [
      "/content/drive/MyDrive/Colab_Notebooks/Master/SS23_Assignment_3/training.py:239: RuntimeWarning: Mean of empty slice\n",
      "  print(i)\n"
     ]
    },
    {
     "output_type": "stream",
     "name": "stdout",
     "text": [
      "2039\n"
     ]
    },
    {
     "output_type": "execute_result",
     "data": {
      "text/plain": [
       "(array([0., 1.]), array([    41, 102050]))"
      ]
     },
     "metadata": {},
     "execution_count": 118
    }
   ]
  },
  {
   "cell_type": "code",
   "execution_count": 121,
   "outputs": [
    {
     "output_type": "stream",
     "name": "stdout",
     "text": [
      "successfully saved results to ./drive/MyDrive/Colab_Notebooks/Master/SS23_Assignment_3/output/steps/lstm_out.csv\n"
     ]
    }
   ],
   "source": [
    "from utils import output_results\n",
    "\n",
    "output_results(result, OUT_PATH + \"lstm_out.csv\")"
   ],
   "metadata": {
    "pycharm": {
     "name": "#%%\n"
    },
    "colab": {
     "base_uri": "https://localhost:8080/"
    },
    "id": "Cpbjg1mx9Iik",
    "executionInfo": {
     "status": "ok",
     "timestamp": 1688760929823,
     "user_tz": -120,
     "elapsed": 1381,
     "user": {
      "displayName": "Lennard Rose",
      "userId": "06501036474986291686"
     }
    },
    "outputId": "ffa3fcff-370d-4b8a-c3ac-417c67f54531"
   }
  }
 ],
 "metadata": {
  "kernelspec": {
   "display_name": "Python 3",
   "name": "python3"
  },
  "language_info": {
   "codemirror_mode": {
    "name": "ipython",
    "version": 2
   },
   "file_extension": ".py",
   "mimetype": "text/x-python",
   "name": "python",
   "nbconvert_exporter": "python",
   "pygments_lexer": "ipython2",
   "version": "2.7.6"
  },
  "colab": {
   "provenance": [],
   "machine_shape": "hm",
   "gpuType": "A100"
  },
  "accelerator": "GPU",
  "widgets": {
   "application/vnd.jupyter.widget-state+json": {
    "00f6e3ce42c34b5baba21dbb913c5efa": {
     "model_module": "@jupyter-widgets/controls",
     "model_name": "HBoxModel",
     "model_module_version": "1.5.0",
     "state": {
      "_dom_classes": [],
      "_model_module": "@jupyter-widgets/controls",
      "_model_module_version": "1.5.0",
      "_model_name": "HBoxModel",
      "_view_count": null,
      "_view_module": "@jupyter-widgets/controls",
      "_view_module_version": "1.5.0",
      "_view_name": "HBoxView",
      "box_style": "",
      "children": [
       "IPY_MODEL_d74a0a527e434a8684bba260f234f1d0",
       "IPY_MODEL_aa85fa8dea4c4634b7cd235f7d746cf9",
       "IPY_MODEL_7a43ca8d36ab4c1497fd7e87cbb53ea1"
      ],
      "layout": "IPY_MODEL_2d43c56d1f094abc8e93390928a7cb4b"
     }
    },
    "d74a0a527e434a8684bba260f234f1d0": {
     "model_module": "@jupyter-widgets/controls",
     "model_name": "HTMLModel",
     "model_module_version": "1.5.0",
     "state": {
      "_dom_classes": [],
      "_model_module": "@jupyter-widgets/controls",
      "_model_module_version": "1.5.0",
      "_model_name": "HTMLModel",
      "_view_count": null,
      "_view_module": "@jupyter-widgets/controls",
      "_view_module_version": "1.5.0",
      "_view_name": "HTMLView",
      "description": "",
      "description_tooltip": null,
      "layout": "IPY_MODEL_af376b4654a04b1e8c93b579d9f21e20",
      "placeholder": "​",
      "style": "IPY_MODEL_04a45de0f58e48e29e27b404760be2cd",
      "value": "Epochs: 100%"
     }
    },
    "aa85fa8dea4c4634b7cd235f7d746cf9": {
     "model_module": "@jupyter-widgets/controls",
     "model_name": "FloatProgressModel",
     "model_module_version": "1.5.0",
     "state": {
      "_dom_classes": [],
      "_model_module": "@jupyter-widgets/controls",
      "_model_module_version": "1.5.0",
      "_model_name": "FloatProgressModel",
      "_view_count": null,
      "_view_module": "@jupyter-widgets/controls",
      "_view_module_version": "1.5.0",
      "_view_name": "ProgressView",
      "bar_style": "success",
      "description": "",
      "description_tooltip": null,
      "layout": "IPY_MODEL_63095c5632b449f2bd58d1d8b5194da3",
      "max": 50,
      "min": 0,
      "orientation": "horizontal",
      "style": "IPY_MODEL_d8e2240dd41b4c919634cfd8ca338870",
      "value": 50
     }
    },
    "7a43ca8d36ab4c1497fd7e87cbb53ea1": {
     "model_module": "@jupyter-widgets/controls",
     "model_name": "HTMLModel",
     "model_module_version": "1.5.0",
     "state": {
      "_dom_classes": [],
      "_model_module": "@jupyter-widgets/controls",
      "_model_module_version": "1.5.0",
      "_model_name": "HTMLModel",
      "_view_count": null,
      "_view_module": "@jupyter-widgets/controls",
      "_view_module_version": "1.5.0",
      "_view_name": "HTMLView",
      "description": "",
      "description_tooltip": null,
      "layout": "IPY_MODEL_6551773decf542ca904229dddc618923",
      "placeholder": "​",
      "style": "IPY_MODEL_70b5c92f9a4a48ecbc7e6c641e016d9d",
      "value": " 50/50 [01:10&lt;00:00,  1.41s/it]"
     }
    },
    "2d43c56d1f094abc8e93390928a7cb4b": {
     "model_module": "@jupyter-widgets/base",
     "model_name": "LayoutModel",
     "model_module_version": "1.2.0",
     "state": {
      "_model_module": "@jupyter-widgets/base",
      "_model_module_version": "1.2.0",
      "_model_name": "LayoutModel",
      "_view_count": null,
      "_view_module": "@jupyter-widgets/base",
      "_view_module_version": "1.2.0",
      "_view_name": "LayoutView",
      "align_content": null,
      "align_items": null,
      "align_self": null,
      "border": null,
      "bottom": null,
      "display": null,
      "flex": null,
      "flex_flow": null,
      "grid_area": null,
      "grid_auto_columns": null,
      "grid_auto_flow": null,
      "grid_auto_rows": null,
      "grid_column": null,
      "grid_gap": null,
      "grid_row": null,
      "grid_template_areas": null,
      "grid_template_columns": null,
      "grid_template_rows": null,
      "height": null,
      "justify_content": null,
      "justify_items": null,
      "left": null,
      "margin": null,
      "max_height": null,
      "max_width": null,
      "min_height": null,
      "min_width": null,
      "object_fit": null,
      "object_position": null,
      "order": null,
      "overflow": null,
      "overflow_x": null,
      "overflow_y": null,
      "padding": null,
      "right": null,
      "top": null,
      "visibility": null,
      "width": null
     }
    },
    "af376b4654a04b1e8c93b579d9f21e20": {
     "model_module": "@jupyter-widgets/base",
     "model_name": "LayoutModel",
     "model_module_version": "1.2.0",
     "state": {
      "_model_module": "@jupyter-widgets/base",
      "_model_module_version": "1.2.0",
      "_model_name": "LayoutModel",
      "_view_count": null,
      "_view_module": "@jupyter-widgets/base",
      "_view_module_version": "1.2.0",
      "_view_name": "LayoutView",
      "align_content": null,
      "align_items": null,
      "align_self": null,
      "border": null,
      "bottom": null,
      "display": null,
      "flex": null,
      "flex_flow": null,
      "grid_area": null,
      "grid_auto_columns": null,
      "grid_auto_flow": null,
      "grid_auto_rows": null,
      "grid_column": null,
      "grid_gap": null,
      "grid_row": null,
      "grid_template_areas": null,
      "grid_template_columns": null,
      "grid_template_rows": null,
      "height": null,
      "justify_content": null,
      "justify_items": null,
      "left": null,
      "margin": null,
      "max_height": null,
      "max_width": null,
      "min_height": null,
      "min_width": null,
      "object_fit": null,
      "object_position": null,
      "order": null,
      "overflow": null,
      "overflow_x": null,
      "overflow_y": null,
      "padding": null,
      "right": null,
      "top": null,
      "visibility": null,
      "width": null
     }
    },
    "04a45de0f58e48e29e27b404760be2cd": {
     "model_module": "@jupyter-widgets/controls",
     "model_name": "DescriptionStyleModel",
     "model_module_version": "1.5.0",
     "state": {
      "_model_module": "@jupyter-widgets/controls",
      "_model_module_version": "1.5.0",
      "_model_name": "DescriptionStyleModel",
      "_view_count": null,
      "_view_module": "@jupyter-widgets/base",
      "_view_module_version": "1.2.0",
      "_view_name": "StyleView",
      "description_width": ""
     }
    },
    "63095c5632b449f2bd58d1d8b5194da3": {
     "model_module": "@jupyter-widgets/base",
     "model_name": "LayoutModel",
     "model_module_version": "1.2.0",
     "state": {
      "_model_module": "@jupyter-widgets/base",
      "_model_module_version": "1.2.0",
      "_model_name": "LayoutModel",
      "_view_count": null,
      "_view_module": "@jupyter-widgets/base",
      "_view_module_version": "1.2.0",
      "_view_name": "LayoutView",
      "align_content": null,
      "align_items": null,
      "align_self": null,
      "border": null,
      "bottom": null,
      "display": null,
      "flex": null,
      "flex_flow": null,
      "grid_area": null,
      "grid_auto_columns": null,
      "grid_auto_flow": null,
      "grid_auto_rows": null,
      "grid_column": null,
      "grid_gap": null,
      "grid_row": null,
      "grid_template_areas": null,
      "grid_template_columns": null,
      "grid_template_rows": null,
      "height": null,
      "justify_content": null,
      "justify_items": null,
      "left": null,
      "margin": null,
      "max_height": null,
      "max_width": null,
      "min_height": null,
      "min_width": null,
      "object_fit": null,
      "object_position": null,
      "order": null,
      "overflow": null,
      "overflow_x": null,
      "overflow_y": null,
      "padding": null,
      "right": null,
      "top": null,
      "visibility": null,
      "width": null
     }
    },
    "d8e2240dd41b4c919634cfd8ca338870": {
     "model_module": "@jupyter-widgets/controls",
     "model_name": "ProgressStyleModel",
     "model_module_version": "1.5.0",
     "state": {
      "_model_module": "@jupyter-widgets/controls",
      "_model_module_version": "1.5.0",
      "_model_name": "ProgressStyleModel",
      "_view_count": null,
      "_view_module": "@jupyter-widgets/base",
      "_view_module_version": "1.2.0",
      "_view_name": "StyleView",
      "bar_color": null,
      "description_width": ""
     }
    },
    "6551773decf542ca904229dddc618923": {
     "model_module": "@jupyter-widgets/base",
     "model_name": "LayoutModel",
     "model_module_version": "1.2.0",
     "state": {
      "_model_module": "@jupyter-widgets/base",
      "_model_module_version": "1.2.0",
      "_model_name": "LayoutModel",
      "_view_count": null,
      "_view_module": "@jupyter-widgets/base",
      "_view_module_version": "1.2.0",
      "_view_name": "LayoutView",
      "align_content": null,
      "align_items": null,
      "align_self": null,
      "border": null,
      "bottom": null,
      "display": null,
      "flex": null,
      "flex_flow": null,
      "grid_area": null,
      "grid_auto_columns": null,
      "grid_auto_flow": null,
      "grid_auto_rows": null,
      "grid_column": null,
      "grid_gap": null,
      "grid_row": null,
      "grid_template_areas": null,
      "grid_template_columns": null,
      "grid_template_rows": null,
      "height": null,
      "justify_content": null,
      "justify_items": null,
      "left": null,
      "margin": null,
      "max_height": null,
      "max_width": null,
      "min_height": null,
      "min_width": null,
      "object_fit": null,
      "object_position": null,
      "order": null,
      "overflow": null,
      "overflow_x": null,
      "overflow_y": null,
      "padding": null,
      "right": null,
      "top": null,
      "visibility": null,
      "width": null
     }
    },
    "70b5c92f9a4a48ecbc7e6c641e016d9d": {
     "model_module": "@jupyter-widgets/controls",
     "model_name": "DescriptionStyleModel",
     "model_module_version": "1.5.0",
     "state": {
      "_model_module": "@jupyter-widgets/controls",
      "_model_module_version": "1.5.0",
      "_model_name": "DescriptionStyleModel",
      "_view_count": null,
      "_view_module": "@jupyter-widgets/base",
      "_view_module_version": "1.2.0",
      "_view_name": "StyleView",
      "description_width": ""
     }
    },
    "71694bc0b8d14bdeaf4a9a15d453fe3a": {
     "model_module": "@jupyter-widgets/controls",
     "model_name": "HBoxModel",
     "model_module_version": "1.5.0",
     "state": {
      "_dom_classes": [],
      "_model_module": "@jupyter-widgets/controls",
      "_model_module_version": "1.5.0",
      "_model_name": "HBoxModel",
      "_view_count": null,
      "_view_module": "@jupyter-widgets/controls",
      "_view_module_version": "1.5.0",
      "_view_name": "HBoxView",
      "box_style": "",
      "children": [
       "IPY_MODEL_31d872d5943b4ad48606bbd437c7879c",
       "IPY_MODEL_aab3a5243ba44d55b986f168d6c6f17a",
       "IPY_MODEL_dfd6989856c84f5485a810d76d52b068"
      ],
      "layout": "IPY_MODEL_952956e685fb458eacca52c1d4f33f92"
     }
    },
    "31d872d5943b4ad48606bbd437c7879c": {
     "model_module": "@jupyter-widgets/controls",
     "model_name": "HTMLModel",
     "model_module_version": "1.5.0",
     "state": {
      "_dom_classes": [],
      "_model_module": "@jupyter-widgets/controls",
      "_model_module_version": "1.5.0",
      "_model_name": "HTMLModel",
      "_view_count": null,
      "_view_module": "@jupyter-widgets/controls",
      "_view_module_version": "1.5.0",
      "_view_name": "HTMLView",
      "description": "",
      "description_tooltip": null,
      "layout": "IPY_MODEL_fa3c3948929e405ea8c612a0a2a34627",
      "placeholder": "​",
      "style": "IPY_MODEL_3c9aa8e5556a4148b27a838933636322",
      "value": "Epochs:  10%"
     }
    },
    "aab3a5243ba44d55b986f168d6c6f17a": {
     "model_module": "@jupyter-widgets/controls",
     "model_name": "FloatProgressModel",
     "model_module_version": "1.5.0",
     "state": {
      "_dom_classes": [],
      "_model_module": "@jupyter-widgets/controls",
      "_model_module_version": "1.5.0",
      "_model_name": "FloatProgressModel",
      "_view_count": null,
      "_view_module": "@jupyter-widgets/controls",
      "_view_module_version": "1.5.0",
      "_view_name": "ProgressView",
      "bar_style": "danger",
      "description": "",
      "description_tooltip": null,
      "layout": "IPY_MODEL_da193a79a04e47aeb74fdd9a75cefe33",
      "max": 20,
      "min": 0,
      "orientation": "horizontal",
      "style": "IPY_MODEL_c5d3f40b26b94a4fbb3dd9fb3af5819d",
      "value": 2
     }
    },
    "dfd6989856c84f5485a810d76d52b068": {
     "model_module": "@jupyter-widgets/controls",
     "model_name": "HTMLModel",
     "model_module_version": "1.5.0",
     "state": {
      "_dom_classes": [],
      "_model_module": "@jupyter-widgets/controls",
      "_model_module_version": "1.5.0",
      "_model_name": "HTMLModel",
      "_view_count": null,
      "_view_module": "@jupyter-widgets/controls",
      "_view_module_version": "1.5.0",
      "_view_name": "HTMLView",
      "description": "",
      "description_tooltip": null,
      "layout": "IPY_MODEL_f21a4fccded34a22aec9a16d87e90d70",
      "placeholder": "​",
      "style": "IPY_MODEL_f1dc5df9ba0945bd9939137255e508a8",
      "value": " 2/20 [07:18&lt;47:19, 157.76s/it]"
     }
    },
    "952956e685fb458eacca52c1d4f33f92": {
     "model_module": "@jupyter-widgets/base",
     "model_name": "LayoutModel",
     "model_module_version": "1.2.0",
     "state": {
      "_model_module": "@jupyter-widgets/base",
      "_model_module_version": "1.2.0",
      "_model_name": "LayoutModel",
      "_view_count": null,
      "_view_module": "@jupyter-widgets/base",
      "_view_module_version": "1.2.0",
      "_view_name": "LayoutView",
      "align_content": null,
      "align_items": null,
      "align_self": null,
      "border": null,
      "bottom": null,
      "display": null,
      "flex": null,
      "flex_flow": null,
      "grid_area": null,
      "grid_auto_columns": null,
      "grid_auto_flow": null,
      "grid_auto_rows": null,
      "grid_column": null,
      "grid_gap": null,
      "grid_row": null,
      "grid_template_areas": null,
      "grid_template_columns": null,
      "grid_template_rows": null,
      "height": null,
      "justify_content": null,
      "justify_items": null,
      "left": null,
      "margin": null,
      "max_height": null,
      "max_width": null,
      "min_height": null,
      "min_width": null,
      "object_fit": null,
      "object_position": null,
      "order": null,
      "overflow": null,
      "overflow_x": null,
      "overflow_y": null,
      "padding": null,
      "right": null,
      "top": null,
      "visibility": null,
      "width": null
     }
    },
    "fa3c3948929e405ea8c612a0a2a34627": {
     "model_module": "@jupyter-widgets/base",
     "model_name": "LayoutModel",
     "model_module_version": "1.2.0",
     "state": {
      "_model_module": "@jupyter-widgets/base",
      "_model_module_version": "1.2.0",
      "_model_name": "LayoutModel",
      "_view_count": null,
      "_view_module": "@jupyter-widgets/base",
      "_view_module_version": "1.2.0",
      "_view_name": "LayoutView",
      "align_content": null,
      "align_items": null,
      "align_self": null,
      "border": null,
      "bottom": null,
      "display": null,
      "flex": null,
      "flex_flow": null,
      "grid_area": null,
      "grid_auto_columns": null,
      "grid_auto_flow": null,
      "grid_auto_rows": null,
      "grid_column": null,
      "grid_gap": null,
      "grid_row": null,
      "grid_template_areas": null,
      "grid_template_columns": null,
      "grid_template_rows": null,
      "height": null,
      "justify_content": null,
      "justify_items": null,
      "left": null,
      "margin": null,
      "max_height": null,
      "max_width": null,
      "min_height": null,
      "min_width": null,
      "object_fit": null,
      "object_position": null,
      "order": null,
      "overflow": null,
      "overflow_x": null,
      "overflow_y": null,
      "padding": null,
      "right": null,
      "top": null,
      "visibility": null,
      "width": null
     }
    },
    "3c9aa8e5556a4148b27a838933636322": {
     "model_module": "@jupyter-widgets/controls",
     "model_name": "DescriptionStyleModel",
     "model_module_version": "1.5.0",
     "state": {
      "_model_module": "@jupyter-widgets/controls",
      "_model_module_version": "1.5.0",
      "_model_name": "DescriptionStyleModel",
      "_view_count": null,
      "_view_module": "@jupyter-widgets/base",
      "_view_module_version": "1.2.0",
      "_view_name": "StyleView",
      "description_width": ""
     }
    },
    "da193a79a04e47aeb74fdd9a75cefe33": {
     "model_module": "@jupyter-widgets/base",
     "model_name": "LayoutModel",
     "model_module_version": "1.2.0",
     "state": {
      "_model_module": "@jupyter-widgets/base",
      "_model_module_version": "1.2.0",
      "_model_name": "LayoutModel",
      "_view_count": null,
      "_view_module": "@jupyter-widgets/base",
      "_view_module_version": "1.2.0",
      "_view_name": "LayoutView",
      "align_content": null,
      "align_items": null,
      "align_self": null,
      "border": null,
      "bottom": null,
      "display": null,
      "flex": null,
      "flex_flow": null,
      "grid_area": null,
      "grid_auto_columns": null,
      "grid_auto_flow": null,
      "grid_auto_rows": null,
      "grid_column": null,
      "grid_gap": null,
      "grid_row": null,
      "grid_template_areas": null,
      "grid_template_columns": null,
      "grid_template_rows": null,
      "height": null,
      "justify_content": null,
      "justify_items": null,
      "left": null,
      "margin": null,
      "max_height": null,
      "max_width": null,
      "min_height": null,
      "min_width": null,
      "object_fit": null,
      "object_position": null,
      "order": null,
      "overflow": null,
      "overflow_x": null,
      "overflow_y": null,
      "padding": null,
      "right": null,
      "top": null,
      "visibility": null,
      "width": null
     }
    },
    "c5d3f40b26b94a4fbb3dd9fb3af5819d": {
     "model_module": "@jupyter-widgets/controls",
     "model_name": "ProgressStyleModel",
     "model_module_version": "1.5.0",
     "state": {
      "_model_module": "@jupyter-widgets/controls",
      "_model_module_version": "1.5.0",
      "_model_name": "ProgressStyleModel",
      "_view_count": null,
      "_view_module": "@jupyter-widgets/base",
      "_view_module_version": "1.2.0",
      "_view_name": "StyleView",
      "bar_color": null,
      "description_width": ""
     }
    },
    "f21a4fccded34a22aec9a16d87e90d70": {
     "model_module": "@jupyter-widgets/base",
     "model_name": "LayoutModel",
     "model_module_version": "1.2.0",
     "state": {
      "_model_module": "@jupyter-widgets/base",
      "_model_module_version": "1.2.0",
      "_model_name": "LayoutModel",
      "_view_count": null,
      "_view_module": "@jupyter-widgets/base",
      "_view_module_version": "1.2.0",
      "_view_name": "LayoutView",
      "align_content": null,
      "align_items": null,
      "align_self": null,
      "border": null,
      "bottom": null,
      "display": null,
      "flex": null,
      "flex_flow": null,
      "grid_area": null,
      "grid_auto_columns": null,
      "grid_auto_flow": null,
      "grid_auto_rows": null,
      "grid_column": null,
      "grid_gap": null,
      "grid_row": null,
      "grid_template_areas": null,
      "grid_template_columns": null,
      "grid_template_rows": null,
      "height": null,
      "justify_content": null,
      "justify_items": null,
      "left": null,
      "margin": null,
      "max_height": null,
      "max_width": null,
      "min_height": null,
      "min_width": null,
      "object_fit": null,
      "object_position": null,
      "order": null,
      "overflow": null,
      "overflow_x": null,
      "overflow_y": null,
      "padding": null,
      "right": null,
      "top": null,
      "visibility": null,
      "width": null
     }
    },
    "f1dc5df9ba0945bd9939137255e508a8": {
     "model_module": "@jupyter-widgets/controls",
     "model_name": "DescriptionStyleModel",
     "model_module_version": "1.5.0",
     "state": {
      "_model_module": "@jupyter-widgets/controls",
      "_model_module_version": "1.5.0",
      "_model_name": "DescriptionStyleModel",
      "_view_count": null,
      "_view_module": "@jupyter-widgets/base",
      "_view_module_version": "1.2.0",
      "_view_name": "StyleView",
      "description_width": ""
     }
    },
    "14f9def2d0e44b738ba7a56a3b3b6a29": {
     "model_module": "@jupyter-widgets/controls",
     "model_name": "HBoxModel",
     "model_module_version": "1.5.0",
     "state": {
      "_dom_classes": [],
      "_model_module": "@jupyter-widgets/controls",
      "_model_module_version": "1.5.0",
      "_model_name": "HBoxModel",
      "_view_count": null,
      "_view_module": "@jupyter-widgets/controls",
      "_view_module_version": "1.5.0",
      "_view_name": "HBoxView",
      "box_style": "",
      "children": [
       "IPY_MODEL_49ff5acb2a5b45cf801762cbe94dad65",
       "IPY_MODEL_5dba1cf0caa0453b8cab755ab610c4d3",
       "IPY_MODEL_9517b81a5ed441b28362d327cc46957a"
      ],
      "layout": "IPY_MODEL_e446696f489f40b496043615395addfc"
     }
    },
    "49ff5acb2a5b45cf801762cbe94dad65": {
     "model_module": "@jupyter-widgets/controls",
     "model_name": "HTMLModel",
     "model_module_version": "1.5.0",
     "state": {
      "_dom_classes": [],
      "_model_module": "@jupyter-widgets/controls",
      "_model_module_version": "1.5.0",
      "_model_name": "HTMLModel",
      "_view_count": null,
      "_view_module": "@jupyter-widgets/controls",
      "_view_module_version": "1.5.0",
      "_view_name": "HTMLView",
      "description": "",
      "description_tooltip": null,
      "layout": "IPY_MODEL_e2b729ce748f4a70a9b2b1365c84202e",
      "placeholder": "​",
      "style": "IPY_MODEL_1a31be4cc0ec4bb4b05312a8de15a664",
      "value": "Epochs: 100%"
     }
    },
    "5dba1cf0caa0453b8cab755ab610c4d3": {
     "model_module": "@jupyter-widgets/controls",
     "model_name": "FloatProgressModel",
     "model_module_version": "1.5.0",
     "state": {
      "_dom_classes": [],
      "_model_module": "@jupyter-widgets/controls",
      "_model_module_version": "1.5.0",
      "_model_name": "FloatProgressModel",
      "_view_count": null,
      "_view_module": "@jupyter-widgets/controls",
      "_view_module_version": "1.5.0",
      "_view_name": "ProgressView",
      "bar_style": "success",
      "description": "",
      "description_tooltip": null,
      "layout": "IPY_MODEL_fbffeda0841c4021a536994f5c08486f",
      "max": 10,
      "min": 0,
      "orientation": "horizontal",
      "style": "IPY_MODEL_28a2a46a2f4a41cebd6fbb3b9248bfb5",
      "value": 10
     }
    },
    "9517b81a5ed441b28362d327cc46957a": {
     "model_module": "@jupyter-widgets/controls",
     "model_name": "HTMLModel",
     "model_module_version": "1.5.0",
     "state": {
      "_dom_classes": [],
      "_model_module": "@jupyter-widgets/controls",
      "_model_module_version": "1.5.0",
      "_model_name": "HTMLModel",
      "_view_count": null,
      "_view_module": "@jupyter-widgets/controls",
      "_view_module_version": "1.5.0",
      "_view_name": "HTMLView",
      "description": "",
      "description_tooltip": null,
      "layout": "IPY_MODEL_d7f198c832ac492fafcad0f649b7dddc",
      "placeholder": "​",
      "style": "IPY_MODEL_9a16df7b205b4f22840a8a7432aa4166",
      "value": " 10/10 [35:20&lt;00:00, 211.80s/it]"
     }
    },
    "e446696f489f40b496043615395addfc": {
     "model_module": "@jupyter-widgets/base",
     "model_name": "LayoutModel",
     "model_module_version": "1.2.0",
     "state": {
      "_model_module": "@jupyter-widgets/base",
      "_model_module_version": "1.2.0",
      "_model_name": "LayoutModel",
      "_view_count": null,
      "_view_module": "@jupyter-widgets/base",
      "_view_module_version": "1.2.0",
      "_view_name": "LayoutView",
      "align_content": null,
      "align_items": null,
      "align_self": null,
      "border": null,
      "bottom": null,
      "display": null,
      "flex": null,
      "flex_flow": null,
      "grid_area": null,
      "grid_auto_columns": null,
      "grid_auto_flow": null,
      "grid_auto_rows": null,
      "grid_column": null,
      "grid_gap": null,
      "grid_row": null,
      "grid_template_areas": null,
      "grid_template_columns": null,
      "grid_template_rows": null,
      "height": null,
      "justify_content": null,
      "justify_items": null,
      "left": null,
      "margin": null,
      "max_height": null,
      "max_width": null,
      "min_height": null,
      "min_width": null,
      "object_fit": null,
      "object_position": null,
      "order": null,
      "overflow": null,
      "overflow_x": null,
      "overflow_y": null,
      "padding": null,
      "right": null,
      "top": null,
      "visibility": null,
      "width": null
     }
    },
    "e2b729ce748f4a70a9b2b1365c84202e": {
     "model_module": "@jupyter-widgets/base",
     "model_name": "LayoutModel",
     "model_module_version": "1.2.0",
     "state": {
      "_model_module": "@jupyter-widgets/base",
      "_model_module_version": "1.2.0",
      "_model_name": "LayoutModel",
      "_view_count": null,
      "_view_module": "@jupyter-widgets/base",
      "_view_module_version": "1.2.0",
      "_view_name": "LayoutView",
      "align_content": null,
      "align_items": null,
      "align_self": null,
      "border": null,
      "bottom": null,
      "display": null,
      "flex": null,
      "flex_flow": null,
      "grid_area": null,
      "grid_auto_columns": null,
      "grid_auto_flow": null,
      "grid_auto_rows": null,
      "grid_column": null,
      "grid_gap": null,
      "grid_row": null,
      "grid_template_areas": null,
      "grid_template_columns": null,
      "grid_template_rows": null,
      "height": null,
      "justify_content": null,
      "justify_items": null,
      "left": null,
      "margin": null,
      "max_height": null,
      "max_width": null,
      "min_height": null,
      "min_width": null,
      "object_fit": null,
      "object_position": null,
      "order": null,
      "overflow": null,
      "overflow_x": null,
      "overflow_y": null,
      "padding": null,
      "right": null,
      "top": null,
      "visibility": null,
      "width": null
     }
    },
    "1a31be4cc0ec4bb4b05312a8de15a664": {
     "model_module": "@jupyter-widgets/controls",
     "model_name": "DescriptionStyleModel",
     "model_module_version": "1.5.0",
     "state": {
      "_model_module": "@jupyter-widgets/controls",
      "_model_module_version": "1.5.0",
      "_model_name": "DescriptionStyleModel",
      "_view_count": null,
      "_view_module": "@jupyter-widgets/base",
      "_view_module_version": "1.2.0",
      "_view_name": "StyleView",
      "description_width": ""
     }
    },
    "fbffeda0841c4021a536994f5c08486f": {
     "model_module": "@jupyter-widgets/base",
     "model_name": "LayoutModel",
     "model_module_version": "1.2.0",
     "state": {
      "_model_module": "@jupyter-widgets/base",
      "_model_module_version": "1.2.0",
      "_model_name": "LayoutModel",
      "_view_count": null,
      "_view_module": "@jupyter-widgets/base",
      "_view_module_version": "1.2.0",
      "_view_name": "LayoutView",
      "align_content": null,
      "align_items": null,
      "align_self": null,
      "border": null,
      "bottom": null,
      "display": null,
      "flex": null,
      "flex_flow": null,
      "grid_area": null,
      "grid_auto_columns": null,
      "grid_auto_flow": null,
      "grid_auto_rows": null,
      "grid_column": null,
      "grid_gap": null,
      "grid_row": null,
      "grid_template_areas": null,
      "grid_template_columns": null,
      "grid_template_rows": null,
      "height": null,
      "justify_content": null,
      "justify_items": null,
      "left": null,
      "margin": null,
      "max_height": null,
      "max_width": null,
      "min_height": null,
      "min_width": null,
      "object_fit": null,
      "object_position": null,
      "order": null,
      "overflow": null,
      "overflow_x": null,
      "overflow_y": null,
      "padding": null,
      "right": null,
      "top": null,
      "visibility": null,
      "width": null
     }
    },
    "28a2a46a2f4a41cebd6fbb3b9248bfb5": {
     "model_module": "@jupyter-widgets/controls",
     "model_name": "ProgressStyleModel",
     "model_module_version": "1.5.0",
     "state": {
      "_model_module": "@jupyter-widgets/controls",
      "_model_module_version": "1.5.0",
      "_model_name": "ProgressStyleModel",
      "_view_count": null,
      "_view_module": "@jupyter-widgets/base",
      "_view_module_version": "1.2.0",
      "_view_name": "StyleView",
      "bar_color": null,
      "description_width": ""
     }
    },
    "d7f198c832ac492fafcad0f649b7dddc": {
     "model_module": "@jupyter-widgets/base",
     "model_name": "LayoutModel",
     "model_module_version": "1.2.0",
     "state": {
      "_model_module": "@jupyter-widgets/base",
      "_model_module_version": "1.2.0",
      "_model_name": "LayoutModel",
      "_view_count": null,
      "_view_module": "@jupyter-widgets/base",
      "_view_module_version": "1.2.0",
      "_view_name": "LayoutView",
      "align_content": null,
      "align_items": null,
      "align_self": null,
      "border": null,
      "bottom": null,
      "display": null,
      "flex": null,
      "flex_flow": null,
      "grid_area": null,
      "grid_auto_columns": null,
      "grid_auto_flow": null,
      "grid_auto_rows": null,
      "grid_column": null,
      "grid_gap": null,
      "grid_row": null,
      "grid_template_areas": null,
      "grid_template_columns": null,
      "grid_template_rows": null,
      "height": null,
      "justify_content": null,
      "justify_items": null,
      "left": null,
      "margin": null,
      "max_height": null,
      "max_width": null,
      "min_height": null,
      "min_width": null,
      "object_fit": null,
      "object_position": null,
      "order": null,
      "overflow": null,
      "overflow_x": null,
      "overflow_y": null,
      "padding": null,
      "right": null,
      "top": null,
      "visibility": null,
      "width": null
     }
    },
    "9a16df7b205b4f22840a8a7432aa4166": {
     "model_module": "@jupyter-widgets/controls",
     "model_name": "DescriptionStyleModel",
     "model_module_version": "1.5.0",
     "state": {
      "_model_module": "@jupyter-widgets/controls",
      "_model_module_version": "1.5.0",
      "_model_name": "DescriptionStyleModel",
      "_view_count": null,
      "_view_module": "@jupyter-widgets/base",
      "_view_module_version": "1.2.0",
      "_view_name": "StyleView",
      "description_width": ""
     }
    }
   }
  }
 },
 "nbformat": 4,
 "nbformat_minor": 0
}