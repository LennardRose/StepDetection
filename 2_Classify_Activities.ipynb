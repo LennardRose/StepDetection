{
 "cells": [
  {
   "cell_type": "markdown",
   "source": [
    "# 2. Classify Activities\n",
    "Lennard Rose\n",
    "Start with Data_Exploration"
   ],
   "metadata": {
    "collapsed": false,
    "pycharm": {
     "name": "#%% md\n"
    },
    "id": "RiLJWvFdG8uJ"
   }
  },
  {
   "cell_type": "markdown",
   "source": [
    "I decided to predict the activities of the test set to be able to apply different strategies to optimize my training.\n",
    "Some of the strategies I came up with were:\n",
    "- Passing the activities as an additional feature\n",
    "- Train step models on data that is split by activity\n",
    "- Just dont use the activities and act like nothing happened\n",
    "\n",
    "I unvoluntarily decided for the latter. After successfully predicting the activities the prediction of steps was an absolute bummer. So instead of trying to improve my step predictions with the stategies above, I was busy trying to get any reasonable prediction."
   ],
   "metadata": {
    "collapsed": false,
    "pycharm": {
     "name": "#%% md\n"
    }
   }
  },
  {
   "cell_type": "code",
   "execution_count": null,
   "outputs": [
    {
     "output_type": "stream",
     "name": "stdout",
     "text": [
      "Drive already mounted at /content/drive; to attempt to forcibly remount, call drive.mount(\"/content/drive\", force_remount=True).\n"
     ]
    }
   ],
   "source": [
    "from google.colab import drive\n",
    "drive.mount('/content/drive')\n",
    "import sys\n",
    "sys.path.append('/content/drive/MyDrive/Colab_Notebooks/Master/SS23_Assignment_3')"
   ],
   "metadata": {
    "collapsed": false,
    "pycharm": {
     "name": "#%%\n"
    }
   }
  },
  {
   "cell_type": "code",
   "execution_count": null,
   "outputs": [],
   "source": [
    "from psutil import virtual_memory\n",
    "ram_gb = virtual_memory().total / 1e9\n",
    "print('Your runtime has {:.1f} gigabytes of available RAM\\n'.format(ram_gb))\n",
    "\n",
    "if ram_gb < 20:\n",
    "  print('Not using a high-RAM runtime')\n",
    "else:\n",
    "  print('You are using a high-RAM runtime!')"
   ],
   "metadata": {
    "collapsed": false,
    "pycharm": {
     "name": "#%%\n"
    }
   }
  },
  {
   "cell_type": "code",
   "execution_count": 1,
   "outputs": [
    {
     "name": "stdout",
     "output_type": "stream",
     "text": [
      "Using cpu for training\n"
     ]
    }
   ],
   "source": [
    "import utils\n",
    "DEVICE = utils.get_device(cuda=True)"
   ],
   "metadata": {
    "collapsed": false,
    "pycharm": {
     "name": "#%%\n"
    }
   }
  },
  {
   "cell_type": "code",
   "execution_count": 2,
   "outputs": [],
   "source": [
    "%load_ext autoreload\n",
    "%autoreload 2"
   ],
   "metadata": {
    "collapsed": false,
    "pycharm": {
     "name": "#%%\n"
    }
   }
  },
  {
   "cell_type": "code",
   "execution_count": null,
   "outputs": [],
   "source": [
    "BASE_PATH = \"./drive/MyDrive/Colab_Notebooks/Master/SS23_Assignment_3/\""
   ],
   "metadata": {
    "collapsed": false,
    "pycharm": {
     "name": "#%%\n"
    }
   }
  },
  {
   "cell_type": "code",
   "execution_count": null,
   "outputs": [],
   "source": [
    "import os\n",
    "print(os.listdir('./drive/MyDrive/Colab_Notebooks/Master/SS23_Assignment_3/data'))"
   ],
   "metadata": {
    "collapsed": false,
    "pycharm": {
     "name": "#%%\n"
    }
   }
  },
  {
   "cell_type": "code",
   "execution_count": 2,
   "outputs": [],
   "source": [
    "BASE_PATH = \"./\""
   ],
   "metadata": {
    "collapsed": false,
    "pycharm": {
     "name": "#%%\n"
    }
   }
  },
  {
   "cell_type": "code",
   "execution_count": 3,
   "outputs": [],
   "source": [
    "OUT_PATH = BASE_PATH + \"output/activities/\"\n",
    "DATA_PATH = BASE_PATH + \"data/**/*.csv\"\n",
    "LABEL_PATH = BASE_PATH + \"data/**/*.csv.stepMixed\"\n",
    "TEST_PATH = BASE_PATH + \"data/testdata.csv\"\n",
    "RNN_PATH = BASE_PATH + \"models/rnn_activity.pth\"\n",
    "CNN_PATH = BASE_PATH + \"models/cnn_activity.pth\""
   ],
   "metadata": {
    "collapsed": false,
    "pycharm": {
     "name": "#%%\n"
    }
   }
  },
  {
   "cell_type": "markdown",
   "source": [
    "## CNN"
   ],
   "metadata": {
    "collapsed": false,
    "pycharm": {
     "name": "#%% md\n"
    }
   }
  },
  {
   "cell_type": "markdown",
   "source": [
    "My first take was to implement a one dimensional CNN. I passed the 6 sensor datas as different channels and the sequence steps as the single dimension.\n",
    "I outputted only one value so I decided that my true label should be the first label in the sequence.\n",
    "For the data I played a bit with the different balancing sets but there was no significant difference noticable.\n",
    "The thing that was most crucial for success was the batch size. I started with a relatively high batch size of 128 because that was the only thing I could do without running out of RAM when choosing stepsizes of one. With this, the CNN outputted only the same values for each input. So I ended up with getting an output of only one (random, at first I thought the inbalanced data was the cause) activity-class.\n",
    "Most of the trainings looked like this:\n",
    "Epochs: 100%\n",
    "\n",
    "50/50 [1:23:39<00:00, 99.97s/it]\n",
    "Epoch 1 / 50\n",
    "Training Loss: 1.434 - Accuracy: 25.14%\n",
    "Validation Loss: 1.459 - Accuracy: 26.14%\n",
    "Epoch 2 / 50\n",
    "Training Loss: 1.43 - Accuracy: 24.66%\n",
    "Validation Loss: 1.419 - Accuracy: 26.14%\n",
    "\n",
    "...\n",
    "\n",
    "Epoch 49 / 50\n",
    "Training Loss: 1.429 - Accuracy: 25.09%\n",
    "Validation Loss: 1.388 - Accuracy: 25.14%\n",
    "Epoch 50 / 50\n",
    "Training Loss: 1.431 - Accuracy: 24.85%\n",
    "Validation Loss: 1.419 - Accuracy: 26.14%\n",
    "After a lot of debugging and researching the internet I found the solution of simply reducing the batch size. I knew that trying only one batch size would lead to suboptimal results, but I accepted this to save memory and to save me the further optimization steps. However, I was not prepared for the fact that the high batch size would destroy all the results. I then simply bought some RAM on colab, freed some memory in the preprocessing steps and was good to go."
   ],
   "metadata": {
    "collapsed": false,
    "pycharm": {
     "name": "#%% md\n"
    }
   }
  },
  {
   "cell_type": "code",
   "execution_count": 4,
   "outputs": [
    {
     "name": "stdout",
     "output_type": "stream",
     "text": [
      "expand class of 148312 samples by factor 3\n",
      "expand class of 62529 samples by factor 7\n",
      "expand class of 50751 samples by factor 9\n"
     ]
    }
   ],
   "source": [
    "from Data import get_SlidingWindow_Dataloader, get_balanced_dataset, load_dataframes\n",
    "import utils\n",
    "from sklearn.preprocessing import StandardScaler\n",
    "\n",
    "scaler = StandardScaler()\n",
    "\n",
    "df = get_balanced_dataset(data_path=DATA_PATH, label_path= LABEL_PATH, method=\"expand\", labels=\"activity\") # cut expand SMOTE interpolate\n",
    "#df = load_dataframes(labels=\"start\")\n",
    "\n",
    "train_dl, val_dl, fitted_scaler = get_SlidingWindow_Dataloader(df=df,\n",
    "                                                                scaler = scaler,\n",
    "                                                                ordered_df=True,\n",
    "                                                                window_size=100, # default size is only thing implemented\n",
    "                                                                step_size=1, # 1 only\n",
    "                                                                train_test_split=0.9,\n",
    "                                                                batch_size=128, # 64 best\n",
    "                                                                shape_for=\"cnn\",\n",
    "                                                                target_index=\"first\") # works only with first"
   ],
   "metadata": {
    "collapsed": false,
    "pycharm": {
     "name": "#%%\n"
    }
   }
  },
  {
   "cell_type": "markdown",
   "source": [
    "I only implemented one 1D-CNN for all tasks, the only thing adjustable was the purpose (for activities/steps)."
   ],
   "metadata": {
    "collapsed": false,
    "pycharm": {
     "name": "#%% md\n"
    }
   }
  },
  {
   "cell_type": "code",
   "execution_count": 4,
   "outputs": [],
   "source": [
    "from CNN import CNN\n",
    "\n",
    "cnn = CNN(activity=True)"
   ],
   "metadata": {
    "collapsed": false,
    "pycharm": {
     "name": "#%%\n"
    }
   }
  },
  {
   "cell_type": "code",
   "execution_count": null,
   "outputs": [],
   "source": [
    "import torch\n",
    "\n",
    "cnn.load_state_dict(torch.load(CNN_PATH))"
   ],
   "metadata": {
    "collapsed": false,
    "pycharm": {
     "name": "#%%\n",
     "is_executing": true
    }
   }
  },
  {
   "cell_type": "markdown",
   "source": [
    "Before recognizing my batch size mistake I run this in dozens of different combinations. With the adjusted batch size, the training instantly worked pretty well, I reached >95% accuracy on both, the training and validation set on the first run with the below parameters. I cleared the output when I canceled this training process after no further progress was made. After this, I implemented a patience functionality that aborts the training process after a couple of epochs with little progress and always saves the best performing model."
   ],
   "metadata": {
    "collapsed": false,
    "pycharm": {
     "name": "#%% md\n"
    }
   }
  },
  {
   "cell_type": "code",
   "execution_count": null,
   "outputs": [],
   "source": [
    "from training import train_model\n",
    "from torch import nn\n",
    "from sklearn.metrics import accuracy_score\n",
    "\n",
    "criterion = nn.CrossEntropyLoss()\n",
    "\n",
    "EPOCHS = 20\n",
    "LEARNING_RATE = 0.001\n",
    "\n",
    "cnn = cnn.to(DEVICE)\n",
    "trained_model, t_losses, t_accuracies, v_losses, v_accuracies = train_model(cnn,\n",
    "                                                                            learning_rate=LEARNING_RATE,\n",
    "                                                                            criterion=criterion,\n",
    "                                                                            epochs=EPOCHS,\n",
    "                                                                            training_dataloader=train_dl,\n",
    "                                                                            test_dataloader=val_dl,\n",
    "                                                                            device=DEVICE,\n",
    "                                                                            patience_epochs=10,\n",
    "                                                                            path_to_save=CNN_PATH,\n",
    "                                                                            evaluationfunc=accuracy_score,\n",
    "                                                                            verbose=True)"
   ],
   "metadata": {
    "collapsed": false,
    "pycharm": {
     "name": "#%%\n"
    }
   }
  },
  {
   "cell_type": "code",
   "execution_count": null,
   "outputs": [],
   "source": [
    "from utils import save_model\n",
    "\n",
    "save_model(trained_model, CNN_PATH)"
   ],
   "metadata": {
    "collapsed": false,
    "pycharm": {
     "name": "#%%\n"
    }
   }
  },
  {
   "cell_type": "markdown",
   "source": [],
   "metadata": {
    "collapsed": false,
    "pycharm": {
     "name": "#%% md\n"
    }
   }
  },
  {
   "cell_type": "markdown",
   "source": [
    "Below you can see the results of the very first successfull run. Because I had little time I decided to not further improve this because it is not really the main task and postpone it if it is necessary."
   ],
   "metadata": {
    "collapsed": false,
    "pycharm": {
     "name": "#%% md\n"
    }
   }
  },
  {
   "cell_type": "code",
   "execution_count": 6,
   "outputs": [
    {
     "name": "stderr",
     "output_type": "stream",
     "text": [
      "100%|██████████| 29/29 [00:00<00:00, 107.13it/s]\n"
     ]
    },
    {
     "data": {
      "text/plain": "<Figure size 576x432 with 2 Axes>",
      "image/png": "[encoded data removed]"
     },
     "metadata": {
      "needs_background": "light"
     },
     "output_type": "display_data"
    }
   ],
   "source": [
    "from sklearn.metrics import confusion_matrix\n",
    "from tqdm import tqdm\n",
    "from utils import plot_confusion_matrix\n",
    "\n",
    "y_true = []\n",
    "y_pred = []\n",
    "\n",
    "cnn.eval()\n",
    "with torch.no_grad():\n",
    "    for batch, labels in tqdm(val_dl):\n",
    "\n",
    "        torch.cuda.empty_cache()\n",
    "        batch = batch.to(DEVICE)\n",
    "        labels = labels.long().to(DEVICE)\n",
    "        y_true.append(labels.to(\"cpu\"))\n",
    "        y_pred.append(torch.argmax(cnn(batch), 1).to(\"cpu\"))\n",
    "\n",
    "# why is this so annoying\n",
    "y_true2 = torch.Tensor().to(\"cpu\")\n",
    "y_pred2 = torch.Tensor().to(\"cpu\")\n",
    "for t1, t2 in zip(y_true, y_pred):\n",
    "    y_true2 = torch.cat((y_true2, t1), dim=0)\n",
    "    y_pred2 = torch.cat((y_pred2, t2), dim=0)\n",
    "\n",
    "conf_m = confusion_matrix(y_true2, y_pred2)\n",
    "\n",
    "plot_confusion_matrix(conf_m)"
   ],
   "metadata": {
    "collapsed": false,
    "pycharm": {
     "name": "#%%\n"
    }
   }
  },
  {
   "cell_type": "markdown",
   "source": [
    "## RNN\n"
   ],
   "metadata": {
    "collapsed": false,
    "pycharm": {
     "name": "#%% md\n"
    }
   }
  },
  {
   "cell_type": "markdown",
   "source": [
    "Even though the CNN worked pretty well, I wanted to use a second approach. I decided to implement a RNN to see if it works because I wanted to use an LSTM for the step prediction part."
   ],
   "metadata": {
    "collapsed": false,
    "pycharm": {
     "name": "#%% md\n"
    }
   }
  },
  {
   "cell_type": "code",
   "execution_count": 4,
   "outputs": [
    {
     "name": "stdout",
     "output_type": "stream",
     "text": [
      "expand class of 148312 samples by factor 3\n",
      "expand class of 62529 samples by factor 7\n",
      "expand class of 50751 samples by factor 9\n",
      "Using cpu for training\n"
     ]
    }
   ],
   "source": [
    "from Data import get_SlidingWindow_Dataloader, get_balanced_dataset, load_dataframes\n",
    "import utils\n",
    "from sklearn.preprocessing import StandardScaler\n",
    "\n",
    "scaler = StandardScaler()\n",
    "\n",
    "df = get_balanced_dataset(data_path=DATA_PATH, label_path= LABEL_PATH, method=\"expand\", labels=\"activity\") # cut expand SMOTE interpolate\n",
    "#df = load_dataframes(labels=\"start\")\n",
    "\n",
    "train_dl, val_dl, fitted_scaler = get_SlidingWindow_Dataloader(df=df,\n",
    "                                                                scaler = scaler,\n",
    "                                                                ordered_df=True,\n",
    "                                                                window_size=100,\n",
    "                                                                step_size=1,\n",
    "                                                                train_test_split=0.9,\n",
    "                                                                batch_size=64,\n",
    "                                                                shape_for=\"lstm\",\n",
    "                                                                target_index=\"first\")\n",
    "\n",
    "DEVICE = utils.get_device(cuda=True)"
   ],
   "metadata": {
    "collapsed": false,
    "pycharm": {
     "name": "#%%\n"
    }
   }
  },
  {
   "cell_type": "code",
   "execution_count": 5,
   "outputs": [],
   "source": [
    "from LSTM import RNN\n",
    "\n",
    "num_layers = 5\n",
    "\n",
    "rnn = RNN(input_size=6, hidden_size=128, num_layers=num_layers, activity=True, n_classes=4, output_element=\"first\")"
   ],
   "metadata": {
    "collapsed": false,
    "pycharm": {
     "name": "#%%\n"
    }
   }
  },
  {
   "cell_type": "code",
   "execution_count": 7,
   "outputs": [
    {
     "data": {
      "text/plain": "<All keys matched successfully>"
     },
     "execution_count": 7,
     "metadata": {},
     "output_type": "execute_result"
    }
   ],
   "source": [
    "import torch\n",
    "rnn.load_state_dict(torch.load(RNN_PATH))"
   ],
   "metadata": {
    "collapsed": false,
    "pycharm": {
     "name": "#%%\n"
    }
   }
  },
  {
   "cell_type": "markdown",
   "source": [
    "Sadly, all output-cells got cleared when I up and downloaded this notebook to google colab (local for debugging, online for training).\n",
    "The RNN trained much faster than the CNN but only reached around ~75% accuracy."
   ],
   "metadata": {
    "collapsed": false,
    "pycharm": {
     "name": "#%% md\n"
    }
   }
  },
  {
   "cell_type": "code",
   "execution_count": 8,
   "outputs": [
    {
     "name": "stdout",
     "output_type": "stream",
     "text": [
      "Using cpu for training\n"
     ]
    },
    {
     "data": {
      "text/plain": "Epochs:   0%|          | 0/1 [00:00<?, ?it/s]",
      "application/vnd.jupyter.widget-view+json": {
       "version_major": 2,
       "version_minor": 0,
       "model_id": "a9defbdc7a52422cbc489e34003612fd"
      }
     },
     "metadata": {},
     "output_type": "display_data"
    },
    {
     "ename": "KeyboardInterrupt",
     "evalue": "",
     "output_type": "error",
     "traceback": [
      "\u001B[1;31m---------------------------------------------------------------------------\u001B[0m",
      "\u001B[1;31mKeyboardInterrupt\u001B[0m                         Traceback (most recent call last)",
      "\u001B[1;32m~\\AppData\\Local\\Temp/ipykernel_24472/4175268782.py\u001B[0m in \u001B[0;36m<module>\u001B[1;34m\u001B[0m\n\u001B[0;32m     10\u001B[0m \u001B[1;33m\u001B[0m\u001B[0m\n\u001B[0;32m     11\u001B[0m \u001B[0mrnn\u001B[0m \u001B[1;33m=\u001B[0m \u001B[0mrnn\u001B[0m\u001B[1;33m.\u001B[0m\u001B[0mto\u001B[0m\u001B[1;33m(\u001B[0m\u001B[0mDEVICE\u001B[0m\u001B[1;33m)\u001B[0m\u001B[1;33m\u001B[0m\u001B[1;33m\u001B[0m\u001B[0m\n\u001B[1;32m---> 12\u001B[1;33m trained_model, t_losses, t_accuracies, v_losses, v_accuracies = train_model(rnn,\n\u001B[0m\u001B[0;32m     13\u001B[0m                                                                             \u001B[0mlearning_rate\u001B[0m\u001B[1;33m=\u001B[0m\u001B[0mLEARNING_RATE\u001B[0m\u001B[1;33m,\u001B[0m\u001B[1;33m\u001B[0m\u001B[1;33m\u001B[0m\u001B[0m\n\u001B[0;32m     14\u001B[0m                                                                             \u001B[0mcriterion\u001B[0m\u001B[1;33m=\u001B[0m\u001B[0mcriterion\u001B[0m\u001B[1;33m,\u001B[0m\u001B[1;33m\u001B[0m\u001B[1;33m\u001B[0m\u001B[0m\n",
      "\u001B[1;32m~\\Documents\\Studium\\Master\\03_SS23\\NeuralNetworks\\Neural_Networks_Assignments\\SS23_Assignment_3\\SS23_Assignment_3\\training.py\u001B[0m in \u001B[0;36mtrain_model\u001B[1;34m(model, criterion, training_dataloader, test_dataloader, learning_rate, device, epochs, verbose, path_to_save, patience_epochs, evaluationfunc)\u001B[0m\n\u001B[0;32m     54\u001B[0m             \u001B[0moptimizer\u001B[0m\u001B[1;33m.\u001B[0m\u001B[0mzero_grad\u001B[0m\u001B[1;33m(\u001B[0m\u001B[1;33m)\u001B[0m\u001B[1;33m\u001B[0m\u001B[1;33m\u001B[0m\u001B[0m\n\u001B[0;32m     55\u001B[0m \u001B[1;33m\u001B[0m\u001B[0m\n\u001B[1;32m---> 56\u001B[1;33m             \u001B[0moutput\u001B[0m \u001B[1;33m=\u001B[0m \u001B[0mmodel\u001B[0m\u001B[1;33m(\u001B[0m\u001B[0mbatch\u001B[0m\u001B[1;33m)\u001B[0m\u001B[1;33m\u001B[0m\u001B[1;33m\u001B[0m\u001B[0m\n\u001B[0m\u001B[0;32m     57\u001B[0m \u001B[1;33m\u001B[0m\u001B[0m\n\u001B[0;32m     58\u001B[0m             \u001B[0mloss\u001B[0m \u001B[1;33m=\u001B[0m \u001B[0mcriterion\u001B[0m\u001B[1;33m(\u001B[0m\u001B[0moutput\u001B[0m\u001B[1;33m,\u001B[0m \u001B[0mlabels\u001B[0m\u001B[1;33m)\u001B[0m\u001B[1;33m\u001B[0m\u001B[1;33m\u001B[0m\u001B[0m\n",
      "\u001B[1;32mC:\\Python39\\lib\\site-packages\\torch\\nn\\modules\\module.py\u001B[0m in \u001B[0;36m_call_impl\u001B[1;34m(self, *input, **kwargs)\u001B[0m\n\u001B[0;32m   1049\u001B[0m         if not (self._backward_hooks or self._forward_hooks or self._forward_pre_hooks or _global_backward_hooks\n\u001B[0;32m   1050\u001B[0m                 or _global_forward_hooks or _global_forward_pre_hooks):\n\u001B[1;32m-> 1051\u001B[1;33m             \u001B[1;32mreturn\u001B[0m \u001B[0mforward_call\u001B[0m\u001B[1;33m(\u001B[0m\u001B[1;33m*\u001B[0m\u001B[0minput\u001B[0m\u001B[1;33m,\u001B[0m \u001B[1;33m**\u001B[0m\u001B[0mkwargs\u001B[0m\u001B[1;33m)\u001B[0m\u001B[1;33m\u001B[0m\u001B[1;33m\u001B[0m\u001B[0m\n\u001B[0m\u001B[0;32m   1052\u001B[0m         \u001B[1;31m# Do not call functions when jit is used\u001B[0m\u001B[1;33m\u001B[0m\u001B[1;33m\u001B[0m\u001B[1;33m\u001B[0m\u001B[0m\n\u001B[0;32m   1053\u001B[0m         \u001B[0mfull_backward_hooks\u001B[0m\u001B[1;33m,\u001B[0m \u001B[0mnon_full_backward_hooks\u001B[0m \u001B[1;33m=\u001B[0m \u001B[1;33m[\u001B[0m\u001B[1;33m]\u001B[0m\u001B[1;33m,\u001B[0m \u001B[1;33m[\u001B[0m\u001B[1;33m]\u001B[0m\u001B[1;33m\u001B[0m\u001B[1;33m\u001B[0m\u001B[0m\n",
      "\u001B[1;32m~\\Documents\\Studium\\Master\\03_SS23\\NeuralNetworks\\Neural_Networks_Assignments\\SS23_Assignment_3\\SS23_Assignment_3\\LSTM.py\u001B[0m in \u001B[0;36mforward\u001B[1;34m(self, x)\u001B[0m\n\u001B[0;32m     17\u001B[0m \u001B[1;33m\u001B[0m\u001B[0m\n\u001B[0;32m     18\u001B[0m     \u001B[1;32mdef\u001B[0m \u001B[0mforward\u001B[0m\u001B[1;33m(\u001B[0m\u001B[0mself\u001B[0m\u001B[1;33m,\u001B[0m \u001B[0mx\u001B[0m\u001B[1;33m)\u001B[0m\u001B[1;33m:\u001B[0m\u001B[1;33m\u001B[0m\u001B[1;33m\u001B[0m\u001B[0m\n\u001B[1;32m---> 19\u001B[1;33m         \u001B[0mx\u001B[0m\u001B[1;33m,\u001B[0m \u001B[0mhidden_\u001B[0m \u001B[1;33m=\u001B[0m \u001B[0mself\u001B[0m\u001B[1;33m.\u001B[0m\u001B[0mrnn\u001B[0m\u001B[1;33m(\u001B[0m\u001B[0mx\u001B[0m\u001B[1;33m)\u001B[0m\u001B[1;33m\u001B[0m\u001B[1;33m\u001B[0m\u001B[0m\n\u001B[0m\u001B[0;32m     20\u001B[0m \u001B[1;33m\u001B[0m\u001B[0m\n\u001B[0;32m     21\u001B[0m         \u001B[1;32mif\u001B[0m \u001B[0mself\u001B[0m\u001B[1;33m.\u001B[0m\u001B[0mactivity\u001B[0m\u001B[1;33m:\u001B[0m\u001B[1;33m\u001B[0m\u001B[1;33m\u001B[0m\u001B[0m\n",
      "\u001B[1;32mC:\\Python39\\lib\\site-packages\\torch\\nn\\modules\\module.py\u001B[0m in \u001B[0;36m_call_impl\u001B[1;34m(self, *input, **kwargs)\u001B[0m\n\u001B[0;32m   1049\u001B[0m         if not (self._backward_hooks or self._forward_hooks or self._forward_pre_hooks or _global_backward_hooks\n\u001B[0;32m   1050\u001B[0m                 or _global_forward_hooks or _global_forward_pre_hooks):\n\u001B[1;32m-> 1051\u001B[1;33m             \u001B[1;32mreturn\u001B[0m \u001B[0mforward_call\u001B[0m\u001B[1;33m(\u001B[0m\u001B[1;33m*\u001B[0m\u001B[0minput\u001B[0m\u001B[1;33m,\u001B[0m \u001B[1;33m**\u001B[0m\u001B[0mkwargs\u001B[0m\u001B[1;33m)\u001B[0m\u001B[1;33m\u001B[0m\u001B[1;33m\u001B[0m\u001B[0m\n\u001B[0m\u001B[0;32m   1052\u001B[0m         \u001B[1;31m# Do not call functions when jit is used\u001B[0m\u001B[1;33m\u001B[0m\u001B[1;33m\u001B[0m\u001B[1;33m\u001B[0m\u001B[0m\n\u001B[0;32m   1053\u001B[0m         \u001B[0mfull_backward_hooks\u001B[0m\u001B[1;33m,\u001B[0m \u001B[0mnon_full_backward_hooks\u001B[0m \u001B[1;33m=\u001B[0m \u001B[1;33m[\u001B[0m\u001B[1;33m]\u001B[0m\u001B[1;33m,\u001B[0m \u001B[1;33m[\u001B[0m\u001B[1;33m]\u001B[0m\u001B[1;33m\u001B[0m\u001B[1;33m\u001B[0m\u001B[0m\n",
      "\u001B[1;32mC:\\Python39\\lib\\site-packages\\torch\\nn\\modules\\rnn.py\u001B[0m in \u001B[0;36mforward\u001B[1;34m(self, input, hx)\u001B[0m\n\u001B[0;32m    266\u001B[0m         \u001B[0m_impl\u001B[0m \u001B[1;33m=\u001B[0m \u001B[0m_rnn_impls\u001B[0m\u001B[1;33m[\u001B[0m\u001B[0mself\u001B[0m\u001B[1;33m.\u001B[0m\u001B[0mmode\u001B[0m\u001B[1;33m]\u001B[0m\u001B[1;33m\u001B[0m\u001B[1;33m\u001B[0m\u001B[0m\n\u001B[0;32m    267\u001B[0m         \u001B[1;32mif\u001B[0m \u001B[0mbatch_sizes\u001B[0m \u001B[1;32mis\u001B[0m \u001B[1;32mNone\u001B[0m\u001B[1;33m:\u001B[0m\u001B[1;33m\u001B[0m\u001B[1;33m\u001B[0m\u001B[0m\n\u001B[1;32m--> 268\u001B[1;33m             result = _impl(input, hx, self._flat_weights, self.bias, self.num_layers,\n\u001B[0m\u001B[0;32m    269\u001B[0m                            self.dropout, self.training, self.bidirectional, self.batch_first)\n\u001B[0;32m    270\u001B[0m         \u001B[1;32melse\u001B[0m\u001B[1;33m:\u001B[0m\u001B[1;33m\u001B[0m\u001B[1;33m\u001B[0m\u001B[0m\n",
      "\u001B[1;31mKeyboardInterrupt\u001B[0m: "
     ]
    }
   ],
   "source": [
    "from training import train_model\n",
    "from torch import nn\n",
    "from sklearn.metrics import accuracy_score\n",
    "DEVICE = utils.get_device(cuda=True)\n",
    "\n",
    "criterion = nn.CrossEntropyLoss()\n",
    "\n",
    "EPOCHS = 1\n",
    "LEARNING_RATE = 0.0001\n",
    "\n",
    "rnn = rnn.to(DEVICE)\n",
    "trained_model, t_losses, t_accuracies, v_losses, v_accuracies = train_model(rnn,\n",
    "                                                                            learning_rate=LEARNING_RATE,\n",
    "                                                                            criterion=criterion,\n",
    "                                                                            epochs=EPOCHS,\n",
    "                                                                            training_dataloader=train_dl,\n",
    "                                                                            test_dataloader=val_dl,\n",
    "                                                                            device=DEVICE,\n",
    "                                                                            patience_epochs=3,\n",
    "                                                                            path_to_save=RNN_PATH,\n",
    "                                                                            evaluationfunc=accuracy_score,\n",
    "                                                                            verbose=True)"
   ],
   "metadata": {
    "collapsed": false,
    "pycharm": {
     "name": "#%%\n"
    }
   }
  },
  {
   "cell_type": "markdown",
   "source": [
    "Unfortunately I cannot run the RNN for a single epoch on my system. To reconstruct this output."
   ],
   "metadata": {
    "collapsed": false,
    "pycharm": {
     "name": "#%% md\n"
    }
   }
  },
  {
   "cell_type": "code",
   "execution_count": null,
   "outputs": [],
   "source": [
    "from sklearn.metrics import confusion_matrix\n",
    "from tqdm import tqdm\n",
    "from utils import plot_confusion_matrix\n",
    "\n",
    "y_true = []\n",
    "y_pred = []\n",
    "\n",
    "rnn.eval()\n",
    "with torch.no_grad():\n",
    "    for batch, labels in tqdm(val_dl):\n",
    "\n",
    "        torch.cuda.empty_cache()\n",
    "        batch = batch.to(DEVICE)\n",
    "        labels = labels.long().to(DEVICE)\n",
    "        y_true.append(labels.to(\"cpu\"))\n",
    "        y_pred.append(torch.argmax(rnn(batch), 1).to(\"cpu\"))\n",
    "\n",
    "# why is this so annoying\n",
    "y_true2 = torch.Tensor().to(\"cpu\")\n",
    "y_pred2 = torch.Tensor().to(\"cpu\")\n",
    "for t1, t2 in zip(y_true, y_pred):\n",
    "    y_true2 = torch.cat((y_true2, t1), dim=0)\n",
    "    y_pred2 = torch.cat((y_pred2, t2), dim=0)\n",
    "\n",
    "conf_m = confusion_matrix(y_true2, y_pred2)\n",
    "\n",
    "plot_confusion_matrix(conf_m)"
   ],
   "metadata": {
    "collapsed": false,
    "pycharm": {
     "name": "#%%\n",
     "is_executing": true
    }
   }
  },
  {
   "cell_type": "markdown",
   "source": [
    "# Predict Activities for Testset\n"
   ],
   "metadata": {
    "collapsed": false,
    "pycharm": {
     "name": "#%% md\n"
    }
   }
  },
  {
   "cell_type": "markdown",
   "source": [
    "Get a scaler fitted on the training data as well as a validation dataloader to evaluate if the loaded model performs right"
   ],
   "metadata": {
    "collapsed": false,
    "pycharm": {
     "name": "#%% md\n"
    }
   }
  },
  {
   "cell_type": "code",
   "execution_count": 15,
   "outputs": [
    {
     "name": "stdout",
     "output_type": "stream",
     "text": [
      "cut class of 460990 samples down to 50751 samples total\n",
      "cut class of 148312 samples down to 50751 samples total\n",
      "cut class of 62529 samples down to 50751 samples total\n",
      "cut class of 50751 samples down to 50751 samples total\n"
     ]
    }
   ],
   "source": [
    "from sklearn.preprocessing import StandardScaler\n",
    "from Data import load_dataframes, get_SlidingWindow_Dataloader, get_balanced_dataset\n",
    "\n",
    "#df = load_dataframes(labels=\"start\")\n",
    "\n",
    "df = get_balanced_dataset(data_path=DATA_PATH, label_path= LABEL_PATH, method=\"cut\", labels=\"activity\") # cut expand SMOTE interpolate\n",
    "_, val_dl, fitted_scaler = get_SlidingWindow_Dataloader(df=df,\n",
    "                                                                scaler = StandardScaler(),\n",
    "                                                                ordered_df=True,\n",
    "                                                                window_size=100, # default size is only thing implemented\n",
    "                                                                step_size=1, # 1\n",
    "                                                                train_test_split=0.7,\n",
    "                                                                batch_size=128, # 64 best\n",
    "                                                                shape_for=\"cnn\",\n",
    "                                                                target_index=\"first\") # works only with first # doesnt matter"
   ],
   "metadata": {
    "collapsed": false,
    "pycharm": {
     "name": "#%%\n"
    }
   }
  },
  {
   "cell_type": "code",
   "execution_count": 8,
   "outputs": [
    {
     "data": {
      "text/plain": "<All keys matched successfully>"
     },
     "execution_count": 8,
     "metadata": {},
     "output_type": "execute_result"
    }
   ],
   "source": [
    "from CNN import CNN\n",
    "import torch\n",
    "from LSTM import RNN\n",
    "\n",
    "#model =  RNN(input_size=6, hidden_size=128, num_layers=5, activity=True, n_classes=4, output_element=\"first\")\n",
    "model = CNN(activity=True)\n",
    "\n",
    "\n",
    "model.load_state_dict(torch.load(BASE_PATH + \"/models/cnn_activity_best.pth\", map_location=torch.device('cpu')))"
   ],
   "metadata": {
    "collapsed": false,
    "pycharm": {
     "name": "#%%\n"
    }
   }
  },
  {
   "cell_type": "markdown",
   "source": [
    "Evaluate if loaded model is the right (good performing) one."
   ],
   "metadata": {
    "collapsed": false,
    "pycharm": {
     "name": "#%% md\n"
    }
   }
  },
  {
   "cell_type": "code",
   "execution_count": 16,
   "outputs": [
    {
     "name": "stderr",
     "output_type": "stream",
     "text": [
      "100%|██████████| 476/476 [00:10<00:00, 44.63it/s]\n"
     ]
    },
    {
     "data": {
      "text/plain": "<Figure size 576x432 with 2 Axes>",
      "image/png": "[encoded data removed]"
     },
     "metadata": {
      "needs_background": "light"
     },
     "output_type": "display_data"
    }
   ],
   "source": [
    "from sklearn.metrics import confusion_matrix\n",
    "from tqdm import tqdm\n",
    "from utils import plot_confusion_matrix\n",
    "\n",
    "y_true = []\n",
    "y_pred = []\n",
    "\n",
    "model.eval()\n",
    "with torch.no_grad():\n",
    "    for batch, labels in tqdm(val_dl):\n",
    "\n",
    "        torch.cuda.empty_cache()\n",
    "        batch = batch.to(DEVICE)\n",
    "        labels = labels.long().to(DEVICE)\n",
    "        y_true.append(labels.to(\"cpu\"))\n",
    "        y_pred.append(torch.argmax(model(batch), 1).to(\"cpu\"))\n",
    "\n",
    "# why is this so annoying\n",
    "y_true2 = torch.Tensor().to(\"cpu\")\n",
    "y_pred2 = torch.Tensor().to(\"cpu\")\n",
    "for t1, t2 in zip(y_true, y_pred):\n",
    "    y_true2 = torch.cat((y_true2, t1), dim=0)\n",
    "    y_pred2 = torch.cat((y_pred2, t2), dim=0)\n",
    "\n",
    "conf_m = confusion_matrix(y_true2, y_pred2)\n",
    "\n",
    "plot_confusion_matrix(conf_m)"
   ],
   "metadata": {
    "collapsed": false,
    "pycharm": {
     "name": "#%%\n"
    }
   }
  },
  {
   "cell_type": "markdown",
   "source": [
    "For the predictions I implemented three different methods, one to predict activities and two to predict steps (single and multi output).\n",
    "The dataloader is adjustable to create sliding window dataloaders for the test data."
   ],
   "metadata": {
    "collapsed": false,
    "pycharm": {
     "name": "#%% md\n"
    }
   }
  },
  {
   "cell_type": "code",
   "execution_count": 18,
   "outputs": [],
   "source": [
    "import pandas as pd\n",
    "from Data import get_SlidingWindow_Dataloader\n",
    "import numpy as np\n",
    "import torch\n",
    "from training import predict_activities\n",
    "\n",
    "WINDOW_SIZE = 100\n",
    "STEP_SIZE = 1\n",
    "\n",
    "test_data = pd.read_csv(TEST_PATH)\n",
    "\n",
    "test_dl, _, _ = get_SlidingWindow_Dataloader(test_data,\n",
    "                                               scaler=fitted_scaler,\n",
    "                                                ordered_df=False,\n",
    "                                                train=False,\n",
    "                                                 batch_size=1,\n",
    "                                                 window_size=WINDOW_SIZE,\n",
    "                                                 step_size=STEP_SIZE,\n",
    "                                                 train_test_split=None,\n",
    "                                                  shape_for=\"cnn\",\n",
    "                                                target_index=\"first\")\n",
    "\n",
    "result = predict_activities(model, test_dl)\n"
   ],
   "metadata": {
    "collapsed": false,
    "pycharm": {
     "name": "#%%\n"
    }
   }
  },
  {
   "cell_type": "code",
   "execution_count": 24,
   "outputs": [],
   "source": [
    "\n",
    "result = pd.Series([int(torch.argmax(item.squeeze()).item()) for item in result]) # get rid of tensor in tensor, get argmax, get value cast to int put in list"
   ],
   "metadata": {
    "collapsed": false,
    "pycharm": {
     "name": "#%%\n"
    }
   }
  },
  {
   "cell_type": "code",
   "execution_count": 26,
   "outputs": [],
   "source": [
    "result = pd.Series(result)"
   ],
   "metadata": {
    "collapsed": false,
    "pycharm": {
     "name": "#%%\n"
    }
   }
  },
  {
   "cell_type": "code",
   "execution_count": 19,
   "outputs": [
    {
     "data": {
      "text/plain": "0         0\n1         0\n2         0\n3         0\n4         0\n         ..\n102086    0\n102087    0\n102088    0\n102089    0\n102090    0\nLength: 102091, dtype: int64"
     },
     "execution_count": 19,
     "metadata": {},
     "output_type": "execute_result"
    }
   ],
   "source": [
    "# double check\n",
    "result"
   ],
   "metadata": {
    "collapsed": false,
    "pycharm": {
     "name": "#%%\n"
    }
   }
  },
  {
   "cell_type": "markdown",
   "source": [
    "I planned to do a simple voting with the results for the activities. But because the CNN performed so well and because I didn´t further utilized the results I decided not to."
   ],
   "metadata": {
    "collapsed": false,
    "pycharm": {
     "name": "#%% md\n"
    }
   }
  },
  {
   "cell_type": "code",
   "execution_count": 30,
   "outputs": [],
   "source": [
    "results = pd.DataFrame()"
   ],
   "metadata": {
    "collapsed": false,
    "pycharm": {
     "name": "#%%\n"
    }
   }
  },
  {
   "cell_type": "code",
   "execution_count": 37,
   "outputs": [],
   "source": [
    "results = pd.concat([results, result], axis=1)"
   ],
   "metadata": {
    "collapsed": false,
    "pycharm": {
     "name": "#%%\n"
    }
   }
  },
  {
   "cell_type": "code",
   "execution_count": null,
   "outputs": [],
   "source": [
    "result = results.mode(axis=1)"
   ],
   "metadata": {
    "collapsed": false,
    "pycharm": {
     "name": "#%%\n"
    }
   }
  },
  {
   "cell_type": "markdown",
   "source": [
    "Outputting the improved testset"
   ],
   "metadata": {
    "collapsed": false,
    "pycharm": {
     "name": "#%% md\n"
    }
   }
  },
  {
   "cell_type": "code",
   "execution_count": 39,
   "outputs": [],
   "source": [
    "test_data[\" Activity\"] = result\n",
    "test_data.head(10)"
   ],
   "metadata": {
    "collapsed": false,
    "pycharm": {
     "name": "#%%\n"
    }
   }
  },
  {
   "cell_type": "code",
   "execution_count": 45,
   "outputs": [],
   "source": [
    "test_data.to_csv(BASE_PATH + \"output/activities/test_data_with_activities.csv\")"
   ],
   "metadata": {
    "collapsed": false,
    "pycharm": {
     "name": "#%%\n"
    }
   }
  },
  {
   "cell_type": "markdown",
   "source": [
    "As you will see in the next Notebook (Step_Detection) I didn´t used this classified activities any further because I was so occupied with finding a solution to the step predictions. Nevertheless, the steps were not in vain because I was able to reuse much of the logic. I was also able to make sure that the implementations of my models were not to blame for the poor results of the step detection, as they performed extremely well at this point. Especially with the RNN as a precursor to the LSTM, this was important because it was the first sequential model I implemented and otherwise I probably would have looked (for ages) for the error in my implementation or my data generation."
   ],
   "metadata": {
    "collapsed": false,
    "pycharm": {
     "name": "#%% md\n"
    }
   }
  },
  {
   "cell_type": "markdown",
   "source": [
    "\n"
   ],
   "metadata": {
    "collapsed": false,
    "pycharm": {
     "name": "#%% md\n"
    },
    "id": "KpI-yKSzuOal"
   }
  }
 ],
 "metadata": {
  "accelerator": "GPU",
  "colab": {
   "machine_shape": "hm",
   "provenance": [],
   "gpuType": "T4"
  },
  "kernelspec": {
   "display_name": "Python 3",
   "name": "python3"
  },
  "language_info": {
   "codemirror_mode": {
    "name": "ipython",
    "version": 3
   },
   "file_extension": ".py",
   "mimetype": "text/x-python",
   "name": "python",
   "nbconvert_exporter": "python",
   "pygments_lexer": "ipython3",
   "version": "3.6.7"
  },
  "widgets": {
   "application/vnd.jupyter.widget-state+json": {
    "34f0f2303d6f43d990508ef44a02ca00": {
     "model_module": "@jupyter-widgets/controls",
     "model_name": "HBoxModel",
     "model_module_version": "1.5.0",
     "state": {
      "_dom_classes": [],
      "_model_module": "@jupyter-widgets/controls",
      "_model_module_version": "1.5.0",
      "_model_name": "HBoxModel",
      "_view_count": null,
      "_view_module": "@jupyter-widgets/controls",
      "_view_module_version": "1.5.0",
      "_view_name": "HBoxView",
      "box_style": "",
      "children": [
       "IPY_MODEL_83b47fb615104d77ac2cf816e38f5015",
       "IPY_MODEL_da9921202b0440e1bb94ec63990296f6",
       "IPY_MODEL_1b83f4c910ea4a7b9b73bc71314d0779"
      ],
      "layout": "IPY_MODEL_2dc50e55d8fe49d48f2f2bd45eac3fa1"
     }
    },
    "83b47fb615104d77ac2cf816e38f5015": {
     "model_module": "@jupyter-widgets/controls",
     "model_name": "HTMLModel",
     "model_module_version": "1.5.0",
     "state": {
      "_dom_classes": [],
      "_model_module": "@jupyter-widgets/controls",
      "_model_module_version": "1.5.0",
      "_model_name": "HTMLModel",
      "_view_count": null,
      "_view_module": "@jupyter-widgets/controls",
      "_view_module_version": "1.5.0",
      "_view_name": "HTMLView",
      "description": "",
      "description_tooltip": null,
      "layout": "IPY_MODEL_3b8a0bf12e1346ddb7543b3d96f83bfc",
      "placeholder": "​",
      "style": "IPY_MODEL_f01579e78a794d959651defe2f6523e2",
      "value": "Epochs: 100%"
     }
    },
    "da9921202b0440e1bb94ec63990296f6": {
     "model_module": "@jupyter-widgets/controls",
     "model_name": "FloatProgressModel",
     "model_module_version": "1.5.0",
     "state": {
      "_dom_classes": [],
      "_model_module": "@jupyter-widgets/controls",
      "_model_module_version": "1.5.0",
      "_model_name": "FloatProgressModel",
      "_view_count": null,
      "_view_module": "@jupyter-widgets/controls",
      "_view_module_version": "1.5.0",
      "_view_name": "ProgressView",
      "bar_style": "success",
      "description": "",
      "description_tooltip": null,
      "layout": "IPY_MODEL_c96de7ee46ea4d5fa65b4255a28f40d7",
      "max": 1,
      "min": 0,
      "orientation": "horizontal",
      "style": "IPY_MODEL_77e4cfe268594c12a15f3fb2f3213c5a",
      "value": 1
     }
    },
    "1b83f4c910ea4a7b9b73bc71314d0779": {
     "model_module": "@jupyter-widgets/controls",
     "model_name": "HTMLModel",
     "model_module_version": "1.5.0",
     "state": {
      "_dom_classes": [],
      "_model_module": "@jupyter-widgets/controls",
      "_model_module_version": "1.5.0",
      "_model_name": "HTMLModel",
      "_view_count": null,
      "_view_module": "@jupyter-widgets/controls",
      "_view_module_version": "1.5.0",
      "_view_name": "HTMLView",
      "description": "",
      "description_tooltip": null,
      "layout": "IPY_MODEL_4a423c525b66440fb7847eb44d35de79",
      "placeholder": "​",
      "style": "IPY_MODEL_7ce1e0ddfd3d4249991a4d62bf59732e",
      "value": " 1/1 [03:09&lt;00:00, 189.88s/it]"
     }
    },
    "2dc50e55d8fe49d48f2f2bd45eac3fa1": {
     "model_module": "@jupyter-widgets/base",
     "model_name": "LayoutModel",
     "model_module_version": "1.2.0",
     "state": {
      "_model_module": "@jupyter-widgets/base",
      "_model_module_version": "1.2.0",
      "_model_name": "LayoutModel",
      "_view_count": null,
      "_view_module": "@jupyter-widgets/base",
      "_view_module_version": "1.2.0",
      "_view_name": "LayoutView",
      "align_content": null,
      "align_items": null,
      "align_self": null,
      "border": null,
      "bottom": null,
      "display": null,
      "flex": null,
      "flex_flow": null,
      "grid_area": null,
      "grid_auto_columns": null,
      "grid_auto_flow": null,
      "grid_auto_rows": null,
      "grid_column": null,
      "grid_gap": null,
      "grid_row": null,
      "grid_template_areas": null,
      "grid_template_columns": null,
      "grid_template_rows": null,
      "height": null,
      "justify_content": null,
      "justify_items": null,
      "left": null,
      "margin": null,
      "max_height": null,
      "max_width": null,
      "min_height": null,
      "min_width": null,
      "object_fit": null,
      "object_position": null,
      "order": null,
      "overflow": null,
      "overflow_x": null,
      "overflow_y": null,
      "padding": null,
      "right": null,
      "top": null,
      "visibility": null,
      "width": null
     }
    },
    "3b8a0bf12e1346ddb7543b3d96f83bfc": {
     "model_module": "@jupyter-widgets/base",
     "model_name": "LayoutModel",
     "model_module_version": "1.2.0",
     "state": {
      "_model_module": "@jupyter-widgets/base",
      "_model_module_version": "1.2.0",
      "_model_name": "LayoutModel",
      "_view_count": null,
      "_view_module": "@jupyter-widgets/base",
      "_view_module_version": "1.2.0",
      "_view_name": "LayoutView",
      "align_content": null,
      "align_items": null,
      "align_self": null,
      "border": null,
      "bottom": null,
      "display": null,
      "flex": null,
      "flex_flow": null,
      "grid_area": null,
      "grid_auto_columns": null,
      "grid_auto_flow": null,
      "grid_auto_rows": null,
      "grid_column": null,
      "grid_gap": null,
      "grid_row": null,
      "grid_template_areas": null,
      "grid_template_columns": null,
      "grid_template_rows": null,
      "height": null,
      "justify_content": null,
      "justify_items": null,
      "left": null,
      "margin": null,
      "max_height": null,
      "max_width": null,
      "min_height": null,
      "min_width": null,
      "object_fit": null,
      "object_position": null,
      "order": null,
      "overflow": null,
      "overflow_x": null,
      "overflow_y": null,
      "padding": null,
      "right": null,
      "top": null,
      "visibility": null,
      "width": null
     }
    },
    "f01579e78a794d959651defe2f6523e2": {
     "model_module": "@jupyter-widgets/controls",
     "model_name": "DescriptionStyleModel",
     "model_module_version": "1.5.0",
     "state": {
      "_model_module": "@jupyter-widgets/controls",
      "_model_module_version": "1.5.0",
      "_model_name": "DescriptionStyleModel",
      "_view_count": null,
      "_view_module": "@jupyter-widgets/base",
      "_view_module_version": "1.2.0",
      "_view_name": "StyleView",
      "description_width": ""
     }
    },
    "c96de7ee46ea4d5fa65b4255a28f40d7": {
     "model_module": "@jupyter-widgets/base",
     "model_name": "LayoutModel",
     "model_module_version": "1.2.0",
     "state": {
      "_model_module": "@jupyter-widgets/base",
      "_model_module_version": "1.2.0",
      "_model_name": "LayoutModel",
      "_view_count": null,
      "_view_module": "@jupyter-widgets/base",
      "_view_module_version": "1.2.0",
      "_view_name": "LayoutView",
      "align_content": null,
      "align_items": null,
      "align_self": null,
      "border": null,
      "bottom": null,
      "display": null,
      "flex": null,
      "flex_flow": null,
      "grid_area": null,
      "grid_auto_columns": null,
      "grid_auto_flow": null,
      "grid_auto_rows": null,
      "grid_column": null,
      "grid_gap": null,
      "grid_row": null,
      "grid_template_areas": null,
      "grid_template_columns": null,
      "grid_template_rows": null,
      "height": null,
      "justify_content": null,
      "justify_items": null,
      "left": null,
      "margin": null,
      "max_height": null,
      "max_width": null,
      "min_height": null,
      "min_width": null,
      "object_fit": null,
      "object_position": null,
      "order": null,
      "overflow": null,
      "overflow_x": null,
      "overflow_y": null,
      "padding": null,
      "right": null,
      "top": null,
      "visibility": null,
      "width": null
     }
    },
    "77e4cfe268594c12a15f3fb2f3213c5a": {
     "model_module": "@jupyter-widgets/controls",
     "model_name": "ProgressStyleModel",
     "model_module_version": "1.5.0",
     "state": {
      "_model_module": "@jupyter-widgets/controls",
      "_model_module_version": "1.5.0",
      "_model_name": "ProgressStyleModel",
      "_view_count": null,
      "_view_module": "@jupyter-widgets/base",
      "_view_module_version": "1.2.0",
      "_view_name": "StyleView",
      "bar_color": null,
      "description_width": ""
     }
    },
    "4a423c525b66440fb7847eb44d35de79": {
     "model_module": "@jupyter-widgets/base",
     "model_name": "LayoutModel",
     "model_module_version": "1.2.0",
     "state": {
      "_model_module": "@jupyter-widgets/base",
      "_model_module_version": "1.2.0",
      "_model_name": "LayoutModel",
      "_view_count": null,
      "_view_module": "@jupyter-widgets/base",
      "_view_module_version": "1.2.0",
      "_view_name": "LayoutView",
      "align_content": null,
      "align_items": null,
      "align_self": null,
      "border": null,
      "bottom": null,
      "display": null,
      "flex": null,
      "flex_flow": null,
      "grid_area": null,
      "grid_auto_columns": null,
      "grid_auto_flow": null,
      "grid_auto_rows": null,
      "grid_column": null,
      "grid_gap": null,
      "grid_row": null,
      "grid_template_areas": null,
      "grid_template_columns": null,
      "grid_template_rows": null,
      "height": null,
      "justify_content": null,
      "justify_items": null,
      "left": null,
      "margin": null,
      "max_height": null,
      "max_width": null,
      "min_height": null,
      "min_width": null,
      "object_fit": null,
      "object_position": null,
      "order": null,
      "overflow": null,
      "overflow_x": null,
      "overflow_y": null,
      "padding": null,
      "right": null,
      "top": null,
      "visibility": null,
      "width": null
     }
    },
    "7ce1e0ddfd3d4249991a4d62bf59732e": {
     "model_module": "@jupyter-widgets/controls",
     "model_name": "DescriptionStyleModel",
     "model_module_version": "1.5.0",
     "state": {
      "_model_module": "@jupyter-widgets/controls",
      "_model_module_version": "1.5.0",
      "_model_name": "DescriptionStyleModel",
      "_view_count": null,
      "_view_module": "@jupyter-widgets/base",
      "_view_module_version": "1.2.0",
      "_view_name": "StyleView",
      "description_width": ""
     }
    }
   }
  }
 },
 "nbformat": 4,
 "nbformat_minor": 0
}